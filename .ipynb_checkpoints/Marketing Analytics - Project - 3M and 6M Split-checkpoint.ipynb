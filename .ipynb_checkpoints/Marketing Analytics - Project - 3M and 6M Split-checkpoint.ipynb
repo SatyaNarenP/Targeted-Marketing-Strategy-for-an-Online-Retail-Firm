{
 "cells": [
  {
   "cell_type": "code",
   "execution_count": 1,
   "metadata": {},
   "outputs": [
    {
     "name": "stdout",
     "output_type": "stream",
     "text": [
      "Populating the interactive namespace from numpy and matplotlib\n"
     ]
    }
   ],
   "source": [
    "import pandas as pd\n",
    "from pandas import Series,DataFrame\n",
    "%pylab inline\n",
    "import matplotlib.ticker as ticker\n",
    "import matplotlib.pyplot as plt\n",
    "import seaborn as sns\n",
    "import warnings\n",
    "warnings.filterwarnings(\"ignore\")\n",
    "from sklearn.cluster import KMeans\n",
    "from sklearn.preprocessing import scale\n"
   ]
  },
  {
   "cell_type": "code",
   "execution_count": 2,
   "metadata": {},
   "outputs": [],
   "source": [
    "filename = 'Retail Transactions Data.csv'\n",
    "dateparse = lambda x: pd.datetime.strptime(x, '%m/%d/%Y %H:%M')\n",
    "df_retail = pd.read_csv(filename,parse_dates=['InvoiceDate'], date_parser=dateparse,encoding='cp1252')"
   ]
  },
  {
   "cell_type": "markdown",
   "metadata": {},
   "source": [
    "####                                            Removing rows with 'CustomerID' blank"
   ]
  },
  {
   "cell_type": "code",
   "execution_count": 3,
   "metadata": {},
   "outputs": [
    {
     "name": "stdout",
     "output_type": "stream",
     "text": [
      "(541909, 8)\n",
      "(406829, 8)\n"
     ]
    }
   ],
   "source": [
    "## Removing rows with CustomerID blank\n",
    "print (df_retail.shape)\n",
    "\n",
    "df_retail = df_retail.drop(df_retail[df_retail['CustomerID'].isnull()].index)\n",
    "\n",
    "print (df_retail.shape)"
   ]
  },
  {
   "cell_type": "markdown",
   "metadata": {},
   "source": [
    "#### Adding a column 'Total Price' for the transactions"
   ]
  },
  {
   "cell_type": "code",
   "execution_count": 4,
   "metadata": {},
   "outputs": [],
   "source": [
    "## adding a column total price of the transaction\n",
    "df_retail['Total Price'] = df_retail['UnitPrice']* df_retail['Quantity']"
   ]
  },
  {
   "cell_type": "markdown",
   "metadata": {},
   "source": [
    "#### Removing entries from December 2011"
   ]
  },
  {
   "cell_type": "code",
   "execution_count": 5,
   "metadata": {},
   "outputs": [
    {
     "name": "stdout",
     "output_type": "stream",
     "text": [
      "(389168, 9)\n"
     ]
    }
   ],
   "source": [
    "## removing entries from december 2011\n",
    "\n",
    "df_retail = df_retail.drop(df_retail[(df_retail['InvoiceDate'].dt.year == 2011) & (df_retail['InvoiceDate'].dt.month == 12)].index)\n",
    "print (df_retail.shape)"
   ]
  },
  {
   "cell_type": "markdown",
   "metadata": {},
   "source": [
    "#### Aggregating the details at Invoice level"
   ]
  },
  {
   "cell_type": "code",
   "execution_count": 6,
   "metadata": {},
   "outputs": [
    {
     "name": "stdout",
     "output_type": "stream",
     "text": [
      "(21300, 2)\n",
      "(21300, 8)\n"
     ]
    },
    {
     "data": {
      "text/html": [
       "<div>\n",
       "<style scoped>\n",
       "    .dataframe tbody tr th:only-of-type {\n",
       "        vertical-align: middle;\n",
       "    }\n",
       "\n",
       "    .dataframe tbody tr th {\n",
       "        vertical-align: top;\n",
       "    }\n",
       "\n",
       "    .dataframe thead th {\n",
       "        text-align: right;\n",
       "    }\n",
       "</style>\n",
       "<table border=\"1\" class=\"dataframe\">\n",
       "  <thead>\n",
       "    <tr style=\"text-align: right;\">\n",
       "      <th></th>\n",
       "      <th>InvoiceNo</th>\n",
       "      <th>CustomerID</th>\n",
       "      <th>Country</th>\n",
       "      <th>InvoiceDate</th>\n",
       "      <th>Total Price</th>\n",
       "      <th>Quantity</th>\n",
       "      <th>Invoice_Month</th>\n",
       "      <th>DayofWeek</th>\n",
       "    </tr>\n",
       "  </thead>\n",
       "  <tbody>\n",
       "    <tr>\n",
       "      <th>0</th>\n",
       "      <td>536365</td>\n",
       "      <td>17850.0</td>\n",
       "      <td>United Kingdom</td>\n",
       "      <td>2010-12-01 08:26:00</td>\n",
       "      <td>139.12</td>\n",
       "      <td>40</td>\n",
       "      <td>December</td>\n",
       "      <td>Wednesday</td>\n",
       "    </tr>\n",
       "    <tr>\n",
       "      <th>1</th>\n",
       "      <td>536366</td>\n",
       "      <td>17850.0</td>\n",
       "      <td>United Kingdom</td>\n",
       "      <td>2010-12-01 08:28:00</td>\n",
       "      <td>22.20</td>\n",
       "      <td>12</td>\n",
       "      <td>December</td>\n",
       "      <td>Wednesday</td>\n",
       "    </tr>\n",
       "    <tr>\n",
       "      <th>2</th>\n",
       "      <td>536367</td>\n",
       "      <td>13047.0</td>\n",
       "      <td>United Kingdom</td>\n",
       "      <td>2010-12-01 08:34:00</td>\n",
       "      <td>278.73</td>\n",
       "      <td>83</td>\n",
       "      <td>December</td>\n",
       "      <td>Wednesday</td>\n",
       "    </tr>\n",
       "    <tr>\n",
       "      <th>3</th>\n",
       "      <td>536368</td>\n",
       "      <td>13047.0</td>\n",
       "      <td>United Kingdom</td>\n",
       "      <td>2010-12-01 08:34:00</td>\n",
       "      <td>70.05</td>\n",
       "      <td>15</td>\n",
       "      <td>December</td>\n",
       "      <td>Wednesday</td>\n",
       "    </tr>\n",
       "    <tr>\n",
       "      <th>4</th>\n",
       "      <td>536369</td>\n",
       "      <td>13047.0</td>\n",
       "      <td>United Kingdom</td>\n",
       "      <td>2010-12-01 08:35:00</td>\n",
       "      <td>17.85</td>\n",
       "      <td>3</td>\n",
       "      <td>December</td>\n",
       "      <td>Wednesday</td>\n",
       "    </tr>\n",
       "  </tbody>\n",
       "</table>\n",
       "</div>"
      ],
      "text/plain": [
       "  InvoiceNo  CustomerID         Country         InvoiceDate  Total Price  \\\n",
       "0    536365     17850.0  United Kingdom 2010-12-01 08:26:00       139.12   \n",
       "1    536366     17850.0  United Kingdom 2010-12-01 08:28:00        22.20   \n",
       "2    536367     13047.0  United Kingdom 2010-12-01 08:34:00       278.73   \n",
       "3    536368     13047.0  United Kingdom 2010-12-01 08:34:00        70.05   \n",
       "4    536369     13047.0  United Kingdom 2010-12-01 08:35:00        17.85   \n",
       "\n",
       "   Quantity Invoice_Month  DayofWeek  \n",
       "0        40      December  Wednesday  \n",
       "1        12      December  Wednesday  \n",
       "2        83      December  Wednesday  \n",
       "3        15      December  Wednesday  \n",
       "4         3      December  Wednesday  "
      ]
     },
     "execution_count": 6,
     "metadata": {},
     "output_type": "execute_result"
    }
   ],
   "source": [
    "## Invoice level details\n",
    "\n",
    "def dow(dt):\n",
    "    return dt.day_name()\n",
    "\n",
    "df_invoice = df_retail.groupby(['InvoiceNo','CustomerID', 'Country','InvoiceDate'])[['Total Price', 'Quantity']].sum()\n",
    "print (df_invoice.shape)\n",
    "df_invoice = pd.DataFrame(df_invoice.to_records())\n",
    "df_invoice['Invoice_Month'] = df_invoice['InvoiceDate'].dt.strftime(\"%B\")\n",
    "df_invoice['DayofWeek'] = df_invoice['InvoiceDate'].map(dow)\n",
    "print (df_invoice.shape)\n",
    "df_invoice.head(5)\n"
   ]
  },
  {
   "cell_type": "markdown",
   "metadata": {},
   "source": [
    "## Exploratory Data Analysis"
   ]
  },
  {
   "cell_type": "markdown",
   "metadata": {},
   "source": [
    "#### Orders by Month"
   ]
  },
  {
   "cell_type": "code",
   "execution_count": 7,
   "metadata": {},
   "outputs": [
    {
     "data": {
      "text/plain": [
       "Text(0.5, 1.0, 'Distribution of Orders by Month')"
      ]
     },
     "execution_count": 7,
     "metadata": {},
     "output_type": "execute_result"
    },
    {
     "data": {
      "image/png": "[encoded data removed]",
      "text/plain": [
       "<Figure size 432x288 with 1 Axes>"
      ]
     },
     "metadata": {
      "needs_background": "light"
     },
     "output_type": "display_data"
    }
   ],
   "source": [
    "## Orders by Month\n",
    "\n",
    "df_monthly = df_invoice.groupby('Invoice_Month')[['InvoiceNo']].count()\n",
    "df_monthly = pd.DataFrame(df_monthly.to_records())\n",
    "month_order = [\"January\", \"February\", \"March\", \"April\", \"May\", \"June\", \"July\",\"August\", \"September\", \"October\", \"November\", \"December\"]\n",
    "df_monthly.set_index(\"Invoice_Month\").loc[month_order]['InvoiceNo'].plot(kind = 'bar')\n",
    "xlabel('Month Name')\n",
    "ylabel('Number of Orders')\n",
    "title('Distribution of Orders by Month')"
   ]
  },
  {
   "cell_type": "markdown",
   "metadata": {},
   "source": [
    "#### Orders by Day of the Week"
   ]
  },
  {
   "cell_type": "code",
   "execution_count": 8,
   "metadata": {},
   "outputs": [
    {
     "data": {
      "text/plain": [
       "Text(0.5, 1.0, 'Distribution of Orders by Day of the Week')"
      ]
     },
     "execution_count": 8,
     "metadata": {},
     "output_type": "execute_result"
    },
    {
     "data": {
      "image/png": "[encoded data removed]",
      "text/plain": [
       "<Figure size 432x288 with 1 Axes>"
      ]
     },
     "metadata": {
      "needs_background": "light"
     },
     "output_type": "display_data"
    }
   ],
   "source": [
    "## Orders by Day of the Week\n",
    "\n",
    "df_dow = df_invoice.groupby('DayofWeek')[['InvoiceNo']].count()\n",
    "df_dow = pd.DataFrame(df_dow.to_records())\n",
    "day_order = [\"Monday\", \"Tuesday\", \"Wednesday\", \"Thursday\", \"Friday\", \"Saturday\", \"Sunday\"]\n",
    "df_dow.set_index(\"DayofWeek\").loc[day_order]['InvoiceNo'].plot(kind = 'bar')\n",
    "xlabel('Day of the Week')\n",
    "ylabel('Number of Orders')\n",
    "title('Distribution of Orders by Day of the Week')"
   ]
  },
  {
   "cell_type": "markdown",
   "metadata": {},
   "source": [
    "#### Orders by Country"
   ]
  },
  {
   "cell_type": "code",
   "execution_count": 9,
   "metadata": {},
   "outputs": [
    {
     "data": {
      "text/plain": [
       "Text(0.5, 1.0, 'Distribution of Orders by Country')"
      ]
     },
     "execution_count": 9,
     "metadata": {},
     "output_type": "execute_result"
    },
    {
     "data": {
      "image/png": "[encoded data removed]",
      "text/plain": [
       "<Figure size 432x288 with 1 Axes>"
      ]
     },
     "metadata": {
      "needs_background": "light"
     },
     "output_type": "display_data"
    }
   ],
   "source": [
    "## Orders by Country\n",
    "\n",
    "df_country = df_invoice.groupby('Country')[['InvoiceNo']].count()\n",
    "df_country = pd.DataFrame(df_country.to_records())\n",
    "df_country.set_index(\"Country\")['InvoiceNo'].plot(kind = 'bar')\n",
    "xlabel('Country')\n",
    "ylabel('Number of Orders')\n",
    "title('Distribution of Orders by Country')"
   ]
  },
  {
   "cell_type": "markdown",
   "metadata": {},
   "source": [
    "### Aggregating data at Customer level for every month"
   ]
  },
  {
   "cell_type": "code",
   "execution_count": 10,
   "metadata": {},
   "outputs": [
    {
     "name": "stdout",
     "output_type": "stream",
     "text": [
      "(12989, 4)\n",
      "(12989, 3)\n",
      "(12989, 3)\n",
      "(12989, 3)\n",
      "   CustomerID Invoice_Month  Total Price  Quantity          FirstOrder  \\\n",
      "0     12346.0       January         0.00         0 2011-01-18 10:01:00   \n",
      "1     12347.0         April       636.25       483 2011-04-07 10:43:00   \n",
      "2     12347.0        August       584.91       277 2011-08-02 08:48:00   \n",
      "3     12347.0      December       711.79       319 2010-12-07 14:57:00   \n",
      "4     12347.0       January       475.39       315 2011-01-26 14:30:00   \n",
      "\n",
      "            LastOrder  Ordercount  \n",
      "0 2011-01-18 10:17:00           2  \n",
      "1 2011-04-07 10:43:00           1  \n",
      "2 2011-08-02 08:48:00           1  \n",
      "3 2010-12-07 14:57:00           1  \n",
      "4 2011-01-26 14:30:00           1  \n",
      "(12989, 7)\n"
     ]
    }
   ],
   "source": [
    "## Getting data at a customer level\n",
    "## customer month firstorder of month last order of month total sales in month\n",
    "\n",
    "## Sales by Month\n",
    "df_customer_sales = df_invoice.groupby(['CustomerID','Invoice_Month'])[['Total Price','Quantity']].sum()\n",
    "df_customer_sales = pd.DataFrame(df_customer_sales.to_records())\n",
    "#print (df_customer_sales.head(5))\n",
    "print (df_customer_sales.shape)\n",
    "\n",
    "## Orders by Month\n",
    "df_customer_orders = df_invoice.groupby(['CustomerID','Invoice_Month'])[['InvoiceNo']].count()\n",
    "df_customer_orders = pd.DataFrame(df_customer_orders.to_records())\n",
    "#print (df_customer_orders.head(5))\n",
    "print (df_customer_orders.shape)\n",
    "\n",
    "## First order in a Month\n",
    "df_customer_monthlyfirst = df_invoice.groupby(['CustomerID','Invoice_Month'])[['InvoiceDate']].min()\n",
    "df_customer_monthlyfirst = pd.DataFrame(df_customer_monthlyfirst.to_records())\n",
    "#print (df_customer_monthlyfirst.head(5))\n",
    "print (df_customer_monthlyfirst.shape)\n",
    "\n",
    "## Last order in a Month\n",
    "df_customer_monthlylast = df_invoice.groupby(['CustomerID','Invoice_Month'])[['InvoiceDate']].max()\n",
    "df_customer_monthlylast = pd.DataFrame(df_customer_monthlylast.to_records())\n",
    "#print (df_customer_monthlylast.head(5))\n",
    "print (df_customer_monthlylast.shape)\n",
    "\n",
    "df_customer = df_customer_sales.merge(df_customer_monthlyfirst, on = ['CustomerID','Invoice_Month'],suffixes = ['_left','_right'])\n",
    "#print (df_customer.head(5))\n",
    "df_customer = df_customer.merge(df_customer_monthlylast, on = ['CustomerID','Invoice_Month'],suffixes = ['_firstorder','_lastorder'])\n",
    "#print (df_customer.head(5))\n",
    "df_customer = df_customer.merge(df_customer_orders, on = ['CustomerID','Invoice_Month'],suffixes = ['_firstorder','_lastorder'])\n",
    "#print (df_customer.head(5))\n",
    "\n",
    "\n",
    "\n",
    "\n",
    "df_customer.rename(columns = {'InvoiceDate_firstorder':'FirstOrder','InvoiceDate_lastorder':'LastOrder','InvoiceNo':'Ordercount'}, inplace = True) \n",
    "print (df_customer.head(5))\n",
    "print (df_customer.shape)"
   ]
  },
  {
   "cell_type": "markdown",
   "metadata": {},
   "source": [
    "### Seperating out Customer Transactions for first six and last six months"
   ]
  },
  {
   "cell_type": "code",
   "execution_count": 11,
   "metadata": {},
   "outputs": [
    {
     "name": "stdout",
     "output_type": "stream",
     "text": [
      "(5527, 7)\n",
      "['January' 'April' 'December' 'February' 'March' 'May']\n",
      "   CustomerID Invoice_Month  Total Price  Quantity          FirstOrder  \\\n",
      "0     12346.0       January         0.00         0 2011-01-18 10:01:00   \n",
      "1     12347.0         April       636.25       483 2011-04-07 10:43:00   \n",
      "3     12347.0      December       711.79       319 2010-12-07 14:57:00   \n",
      "4     12347.0       January       475.39       315 2011-01-26 14:30:00   \n",
      "7     12348.0         April       367.00       269 2011-04-05 10:47:00   \n",
      "\n",
      "            LastOrder  Ordercount  \n",
      "0 2011-01-18 10:17:00           2  \n",
      "1 2011-04-07 10:43:00           1  \n",
      "3 2010-12-07 14:57:00           1  \n",
      "4 2011-01-26 14:30:00           1  \n",
      "7 2011-04-05 10:47:00           1  \n",
      "(7462, 7)\n",
      "['August' 'June' 'October' 'September' 'November' 'July']\n"
     ]
    }
   ],
   "source": [
    "# ## Customer transactions 3 months\n",
    "# df_customer_3m = df_customer[(df_customer['Invoice_Month'] == 'March') | (df_customer['Invoice_Month'] == 'April') | (df_customer['Invoice_Month'] == 'May')]\n",
    "\n",
    "## Customer transactions first 6 months\n",
    "df_customer_6m_first = df_customer[(df_customer['Invoice_Month'] == 'December') | (df_customer['Invoice_Month'] == 'January') | (df_customer['Invoice_Month'] == 'February')| (df_customer['Invoice_Month'] == 'March') | (df_customer['Invoice_Month'] == 'April') | (df_customer['Invoice_Month'] == 'May')]\n",
    "\n",
    "## Customer transactions last 6 months\n",
    "df_customer_6m_last = df_customer[(df_customer['Invoice_Month'] == 'June') | (df_customer['Invoice_Month'] == 'July') | (df_customer['Invoice_Month'] == 'August')| (df_customer['Invoice_Month'] == 'September') | (df_customer['Invoice_Month'] == 'October') | (df_customer['Invoice_Month'] == 'November')]\n",
    "\n",
    "print (df_customer_6m_first.shape)\n",
    "print (df_customer_6m_first['Invoice_Month'].unique())\n",
    "print (df_customer_6m_first.head(5))\n",
    "\n",
    "print (df_customer_6m_last.shape)\n",
    "print (df_customer_6m_last['Invoice_Month'].unique())\n"
   ]
  },
  {
   "cell_type": "markdown",
   "metadata": {},
   "source": [
    "### Getting RFM details  - first 6 months only"
   ]
  },
  {
   "cell_type": "code",
   "execution_count": 13,
   "metadata": {},
   "outputs": [
    {
     "name": "stdout",
     "output_type": "stream",
     "text": [
      "(2767, 4)\n",
      "   CustomerID  Monetory  Frequency  Recency\n",
      "0     12346.0      0.00          2      132\n",
      "1     12347.0   1823.43          3       53\n",
      "2     12348.0   1487.24          3       55\n",
      "3     12350.0    334.40          1      117\n",
      "4     12352.0    601.18          8       69\n"
     ]
    }
   ],
   "source": [
    "from datetime import datetime\n",
    "\n",
    "def recency(dt):\n",
    "    dys = (datetime.strptime('2011-05-31', \"%Y-%m-%d\") - dt).days\n",
    "    return dys\n",
    "\n",
    "\n",
    "## RFM for 6 months\n",
    "\n",
    "## monetory value\n",
    "df_customer_m = df_customer_6m_first.groupby(['CustomerID'])[['Total Price']].sum()\n",
    "df_customer_m = pd.DataFrame(df_customer_m.to_records())\n",
    "df_customer_m.rename(columns = {'Total Price':'Monetory'}, inplace = True) \n",
    "#print (df_customer_m.head(5))\n",
    "\n",
    "\n",
    "## frequency\n",
    "df_customer_f = df_customer_6m_first.groupby(['CustomerID'])[['Ordercount']].sum()\n",
    "df_customer_f = pd.DataFrame(df_customer_f.to_records())\n",
    "df_customer_f.rename(columns = {'Ordercount':'Frequency'}, inplace = True) \n",
    "#print (df_customer_f.head(5))\n",
    "\n",
    "## recency\n",
    "\n",
    "df_customer_r = df_customer_6m_first.groupby(['CustomerID'])[['LastOrder']].max()\n",
    "df_customer_r = pd.DataFrame(df_customer_r.to_records())\n",
    "df_customer_r['Recency'] = df_customer_r['LastOrder'].map(recency)\n",
    "df_customer_r = df_customer_r.drop(columns=['LastOrder'])\n",
    "#print (df_customer_r.head(5))\n",
    "\n",
    "## getting RFM together\n",
    "\n",
    "df_customer_rfm = df_customer_m.merge(df_customer_f,on = ['CustomerID'])\n",
    "df_customer_rfm = df_customer_rfm.merge(df_customer_r,on = ['CustomerID'])\n",
    "print (df_customer_rfm.shape)\n",
    "print (df_customer_rfm.head(5))"
   ]
  },
  {
   "cell_type": "markdown",
   "metadata": {},
   "source": [
    "### Getting all important customer attributes together  - first 6 months"
   ]
  },
  {
   "cell_type": "code",
   "execution_count": 14,
   "metadata": {},
   "outputs": [],
   "source": [
    "def getdays(s):\n",
    "    return (s.days+1)\n",
    "\n",
    "## Getting Aggregated values at customer level\n",
    "\n",
    "## Total Sales, Orders, Items for the first 6 months\n",
    "df_customer_ov = df_customer_6m_first.groupby(['CustomerID'])[['Total Price','Quantity','Ordercount']].sum()\n",
    "df_customer_ov = pd.DataFrame(df_customer_ov.to_records())\n",
    "#print (df_customer_ov.head(5))\n",
    "\n",
    "## First Order of Customer\n",
    "df_customer_first = df_customer_6m_first.groupby(['CustomerID'])[['FirstOrder']].min()\n",
    "df_customer_first = pd.DataFrame(df_customer_first.to_records())\n",
    "#print (df_customer_first.head(5))\n",
    "\n",
    "## Last Order of Customer\n",
    "df_customer_last = df_customer_6m_first.groupby(['CustomerID'])[['LastOrder']].max()\n",
    "df_customer_last = pd.DataFrame(df_customer_last.to_records())\n",
    "#print (df_customer_last.head(5))\n",
    "\n",
    "## Number of active months\n",
    "df_customer_months = df_customer_6m_first.groupby(['CustomerID'])[['Invoice_Month']].count()\n",
    "df_customer_months = pd.DataFrame(df_customer_months.to_records())\n",
    "df_customer_months.rename(columns = {'Invoice_Month':'ActiveMonths'}, inplace = True) \n",
    "#print (df_customer_months.head(5))\n",
    "\n",
    "\n",
    "## Days between first and last order\n",
    "df_customer_daysbetween = df_customer_first.merge(df_customer_last, on = 'CustomerID')\n",
    "df_customer_daysbetween['ActiveDays'] = (df_customer_daysbetween['LastOrder'] - df_customer_daysbetween['FirstOrder']).map(getdays)\n",
    "#print (df_customer_daysbetween.head(5))\n"
   ]
  },
  {
   "cell_type": "code",
   "execution_count": 15,
   "metadata": {},
   "outputs": [
    {
     "name": "stdout",
     "output_type": "stream",
     "text": [
      "   CustomerID  Total Sales  Total Items  Total Orders  ActiveMonths  \\\n",
      "0     12346.0         0.00            0             2             1   \n",
      "1     12347.0      1823.43         1117             3             3   \n",
      "2     12348.0      1487.24         2124             3             3   \n",
      "3     12350.0       334.40          197             1             1   \n",
      "4     12352.0       601.18          188             8             2   \n",
      "\n",
      "   ActiveDays  Recency  Average Basket  \n",
      "0           1      132             0.0  \n",
      "1         121       53           608.0  \n",
      "2         110       55           496.0  \n",
      "3           1      117           334.0  \n",
      "4          35       69            75.0  \n",
      "(2767, 8)\n"
     ]
    }
   ],
   "source": [
    "## Getting all important customer attributes together\n",
    "\n",
    "df_customer_att = df_customer_ov.merge(df_customer_months, on = 'CustomerID')\n",
    "df_customer_att = df_customer_att.merge(df_customer_daysbetween, on ='CustomerID')\n",
    "df_customer_att = df_customer_att.drop(columns=['LastOrder','FirstOrder'])\n",
    "df_customer_att = df_customer_att.merge(df_customer_r,on = 'CustomerID')\n",
    "df_customer_att.rename(columns = {'Quantity':'Total Items','Ordercount': 'Total Orders','Total Price':'Total Sales'}, inplace = True)\n",
    "df_customer_att['Average Basket'] = round(df_customer_att['Total Sales']/ df_customer_att['Total Orders'])\n",
    "print (df_customer_att.head(5))\n",
    "print (df_customer_att.shape)"
   ]
  },
  {
   "cell_type": "markdown",
   "metadata": {},
   "source": [
    "### Getting all important customer attributes together  - last 6 months\n"
   ]
  },
  {
   "cell_type": "code",
   "execution_count": 16,
   "metadata": {},
   "outputs": [],
   "source": [
    "def getdays(s):\n",
    "    return (s.days+1)\n",
    "\n",
    "## Getting Aggregated values at customer level\n",
    "\n",
    "## Total Sales, Orders, Items for the first 6 months\n",
    "df_customer_ov = df_customer_6m_last.groupby(['CustomerID'])[['Total Price','Quantity','Ordercount']].sum()\n",
    "df_customer_ov = pd.DataFrame(df_customer_ov.to_records())\n",
    "#print (df_customer_ov.head(5))\n",
    "\n",
    "## First Order of Customer\n",
    "df_customer_first = df_customer_6m_last.groupby(['CustomerID'])[['FirstOrder']].min()\n",
    "df_customer_first = pd.DataFrame(df_customer_first.to_records())\n",
    "#print (df_customer_first.head(5))\n",
    "\n",
    "## Last Order of Customer\n",
    "df_customer_last = df_customer_6m_last.groupby(['CustomerID'])[['LastOrder']].max()\n",
    "df_customer_last = pd.DataFrame(df_customer_last.to_records())\n",
    "#print (df_customer_last.head(5))\n",
    "\n",
    "## Number of active months\n",
    "df_customer_months = df_customer_6m_last.groupby(['CustomerID'])[['Invoice_Month']].count()\n",
    "df_customer_months = pd.DataFrame(df_customer_months.to_records())\n",
    "df_customer_months.rename(columns = {'Invoice_Month':'ActiveMonths'}, inplace = True) \n",
    "#print (df_customer_months.head(5))\n",
    "\n",
    "\n",
    "## Days between first and last order\n",
    "df_customer_daysbetween = df_customer_first.merge(df_customer_last, on = 'CustomerID')\n",
    "df_customer_daysbetween['ActiveDays'] = (df_customer_daysbetween['LastOrder'] - df_customer_daysbetween['FirstOrder']).map(getdays)\n",
    "#print (df_customer_daysbetween.head(5))\n"
   ]
  },
  {
   "cell_type": "code",
   "execution_count": 17,
   "metadata": {},
   "outputs": [
    {
     "name": "stdout",
     "output_type": "stream",
     "text": [
      "   CustomerID  Total Sales  Total Items  Total Orders  ActiveMonths  \\\n",
      "0     12347.0      2261.75         1149             3             3   \n",
      "1     12348.0       310.00          217             1             1   \n",
      "2     12349.0      1757.55          631             1             1   \n",
      "3     12352.0       944.23          282             3             2   \n",
      "4     12356.0        58.35            5             1             1   \n",
      "\n",
      "   ActiveDays  Average Basket  \n",
      "0         144           754.0  \n",
      "1           1           310.0  \n",
      "2           1          1758.0  \n",
      "3          45           315.0  \n",
      "4           1            58.0  \n",
      "(3499, 7)\n"
     ]
    }
   ],
   "source": [
    "## Getting all important customer attributes together\n",
    "\n",
    "df_customer_att_last6m = df_customer_ov.merge(df_customer_months, on = 'CustomerID')\n",
    "df_customer_att_last6m = df_customer_att_last6m.merge(df_customer_daysbetween, on ='CustomerID')\n",
    "df_customer_att_last6m = df_customer_att_last6m.drop(columns=['LastOrder','FirstOrder'])\n",
    "df_customer_att_last6m.rename(columns = {'Quantity':'Total Items','Ordercount': 'Total Orders','Total Price':'Total Sales'}, inplace = True)\n",
    "df_customer_att_last6m['Average Basket'] = round(df_customer_att_last6m['Total Sales']/ df_customer_att_last6m['Total Orders'])\n",
    "print (df_customer_att_last6m.head(5))\n",
    "print (df_customer_att_last6m.shape)"
   ]
  },
  {
   "cell_type": "markdown",
   "metadata": {},
   "source": [
    "## Cleaning the Data"
   ]
  },
  {
   "cell_type": "markdown",
   "metadata": {},
   "source": [
    "#### Removing customers with negative sales"
   ]
  },
  {
   "cell_type": "code",
   "execution_count": 18,
   "metadata": {},
   "outputs": [
    {
     "name": "stdout",
     "output_type": "stream",
     "text": [
      "(2767, 8)\n",
      "(2767, 4)\n",
      "(3499, 7)\n",
      "(2708, 8)\n",
      "(2708, 4)\n",
      "(3455, 7)\n"
     ]
    }
   ],
   "source": [
    "## Removing customers with negative sales\n",
    "\n",
    "print (df_customer_att.shape)\n",
    "print (df_customer_rfm.shape)\n",
    "print (df_customer_att_last6m.shape)\n",
    "\n",
    "df_customer_att = df_customer_att[df_customer_att['Total Sales'] > 0]\n",
    "df_customer_rfm = df_customer_rfm[df_customer_rfm['Monetory'] > 0 ]\n",
    "df_customer_att_last6m = df_customer_att_last6m[df_customer_att_last6m['Total Sales'] > 0]\n",
    "\n",
    "print (df_customer_att.shape)\n",
    "print (df_customer_rfm.shape)\n",
    "print (df_customer_att_last6m.shape)"
   ]
  },
  {
   "cell_type": "markdown",
   "metadata": {},
   "source": [
    "#### Removing outliers (beyond 3 std from the mean)"
   ]
  },
  {
   "cell_type": "code",
   "execution_count": 19,
   "metadata": {},
   "outputs": [
    {
     "name": "stdout",
     "output_type": "stream",
     "text": [
      "         CustomerID   Total Sales   Total Items  Total Orders  ActiveMonths  \\\n",
      "count   2708.000000  2.708000e+03   2708.000000   2708.000000   2708.000000   \n",
      "mean   15295.827548  1.154526e+03    672.372969      3.301329      2.014771   \n",
      "std     1715.882758  3.683144e+03   2370.986133      4.995902      1.364954   \n",
      "min    12347.000000  5.684342e-14  -6122.000000      1.000000      1.000000   \n",
      "25%    13820.500000  2.381075e+02    113.000000      1.000000      1.000000   \n",
      "50%    15244.500000  4.591600e+02    256.000000      2.000000      1.000000   \n",
      "75%    16769.250000  1.047247e+03    585.500000      4.000000      3.000000   \n",
      "max    18287.000000  1.106681e+05  78755.000000     91.000000      6.000000   \n",
      "\n",
      "        ActiveDays      Recency  Average Basket  \n",
      "count  2708.000000  2708.000000     2708.000000  \n",
      "mean     51.981167    60.290620      322.257755  \n",
      "std      60.882726    52.045674      381.068862  \n",
      "min       1.000000    -1.000000        0.000000  \n",
      "25%       1.000000    17.000000      147.000000  \n",
      "50%      12.000000    47.000000      233.000000  \n",
      "75%     106.000000    92.000000      371.000000  \n",
      "max     182.000000   180.000000     7545.000000  \n",
      "xxxxxxxxxxxxxxxxxxxxxxxxxxxxxxxxxxxxxxxxxxxxxxxxxxxxxxxxxxxxxxxxxxxxx\n",
      "         CustomerID      Monetory    Frequency      Recency\n",
      "count   2708.000000  2.708000e+03  2708.000000  2708.000000\n",
      "mean   15295.827548  1.154526e+03     3.301329    60.290620\n",
      "std     1715.882758  3.683144e+03     4.995902    52.045674\n",
      "min    12347.000000  5.684342e-14     1.000000    -1.000000\n",
      "25%    13820.500000  2.381075e+02     1.000000    17.000000\n",
      "50%    15244.500000  4.591600e+02     2.000000    47.000000\n",
      "75%    16769.250000  1.047247e+03     4.000000    92.000000\n",
      "max    18287.000000  1.106681e+05    91.000000   180.000000\n",
      "xxxxxxxxxxxxxxxxxxxxxxxxxxxxxxxxxxxxxxxxxxxxxxxxxxxxxxxxxxxxxxxxxxxxx\n",
      "         CustomerID   Total Sales  Total Items  Total Orders  ActiveMonths  \\\n",
      "count   2523.000000  2.523000e+03  2523.000000   2523.000000   2523.000000   \n",
      "mean   15318.606421  6.728133e+02   375.269917      2.516052      1.842648   \n",
      "std     1709.654004  7.040683e+02   416.471915      2.023465      1.142942   \n",
      "min    12347.000000  5.684342e-14     0.000000      1.000000      1.000000   \n",
      "25%    13869.500000  2.256500e+02   106.000000      1.000000      1.000000   \n",
      "50%    15288.000000  4.166100e+02   228.000000      2.000000      1.000000   \n",
      "75%    16789.500000  8.698000e+02   485.000000      3.000000      2.000000   \n",
      "max    18287.000000  6.236230e+03  2741.000000     11.000000      6.000000   \n",
      "\n",
      "        ActiveDays      Recency  Average Basket  \n",
      "count  2523.000000  2523.000000     2523.000000  \n",
      "mean     46.648038    62.889417      277.691637  \n",
      "std      57.198139    52.174569      193.440157  \n",
      "min       1.000000    -1.000000        0.000000  \n",
      "25%       1.000000    18.000000      142.500000  \n",
      "50%       7.000000    49.000000      227.000000  \n",
      "75%      92.000000    96.000000      352.000000  \n",
      "max     182.000000   180.000000     1181.000000  \n",
      "xxxxxxxxxxxxxxxxxxxxxxxxxxxxxxxxxxxxxxxxxxxxxxxxxxxxxxxxxxxxxxxxxxxxx\n",
      "         CustomerID      Monetory    Frequency      Recency\n",
      "count   2523.000000  2.523000e+03  2523.000000  2523.000000\n",
      "mean   15318.606421  6.728133e+02     2.516052    62.889417\n",
      "std     1709.654004  7.040683e+02     2.023465    52.174569\n",
      "min    12347.000000  5.684342e-14     1.000000    -1.000000\n",
      "25%    13869.500000  2.256500e+02     1.000000    18.000000\n",
      "50%    15288.000000  4.166100e+02     2.000000    49.000000\n",
      "75%    16789.500000  8.698000e+02     3.000000    96.000000\n",
      "max    18287.000000  6.236230e+03    11.000000   180.000000\n",
      "xxxxxxxxxxxxxxxxxxxxxxxxxxxxxxxxxxxxxxxxxxxxxxxxxxxxxxxxxxxxxxxxxxxxx\n"
     ]
    }
   ],
   "source": [
    "## Removing the outliers\n",
    "\n",
    "\n",
    "\n",
    "print (df_customer_att.describe())\n",
    "print ('xxxxxxxxxxxxxxxxxxxxxxxxxxxxxxxxxxxxxxxxxxxxxxxxxxxxxxxxxxxxxxxxxxxxx')\n",
    "print (df_customer_rfm.describe())\n",
    "print ('xxxxxxxxxxxxxxxxxxxxxxxxxxxxxxxxxxxxxxxxxxxxxxxxxxxxxxxxxxxxxxxxxxxxx')\n",
    "\n",
    "\n",
    "for col in ['Total Sales','Total Items','Total Orders','Average Basket']:\n",
    "\n",
    "    mn = df_customer_att[col].mean()\n",
    "    sd = df_customer_att[col].std()\n",
    "    ## Checking if the that column has outliers\n",
    "    def isnotoutlier(n):\n",
    "        if n > (mn+ (3* sd)):\n",
    "            return False\n",
    "        elif n < (mn - (3* sd)):\n",
    "            return False\n",
    "        else:\n",
    "            return True\n",
    "\n",
    "    is_notoutlier = df_customer_att[col].map(isnotoutlier)\n",
    "\n",
    "    df_customer_att = df_customer_att[is_notoutlier]\n",
    "    df_customer_rfm = df_customer_rfm[is_notoutlier]\n",
    "\n",
    "\n",
    "print (df_customer_att.describe())\n",
    "print ('xxxxxxxxxxxxxxxxxxxxxxxxxxxxxxxxxxxxxxxxxxxxxxxxxxxxxxxxxxxxxxxxxxxxx')\n",
    "print (df_customer_rfm.describe())\n",
    "print ('xxxxxxxxxxxxxxxxxxxxxxxxxxxxxxxxxxxxxxxxxxxxxxxxxxxxxxxxxxxxxxxxxxxxx')"
   ]
  },
  {
   "cell_type": "code",
   "execution_count": 20,
   "metadata": {},
   "outputs": [
    {
     "name": "stdout",
     "output_type": "stream",
     "text": [
      "(2523, 8) (2523, 4)\n",
      "   CustomerID  Total Sales  Total Items  Total Orders  ActiveMonths  \\\n",
      "1     12347.0      1823.43         1117             3             3   \n",
      "2     12348.0      1487.24         2124             3             3   \n",
      "3     12350.0       334.40          197             1             1   \n",
      "4     12352.0       601.18          188             8             2   \n",
      "5     12353.0        89.00           20             1             1   \n",
      "\n",
      "   ActiveDays  Recency  Average Basket  \n",
      "1         121       53           608.0  \n",
      "2         110       55           496.0  \n",
      "3           1      117           334.0  \n",
      "4          35       69            75.0  \n",
      "5           1       11            89.0  \n"
     ]
    }
   ],
   "source": [
    "print (df_customer_att.shape,df_customer_rfm.shape)\n",
    "print(df_customer_att.head(5))"
   ]
  },
  {
   "cell_type": "markdown",
   "metadata": {},
   "source": [
    "## Clustering Based on R,F,M "
   ]
  },
  {
   "cell_type": "markdown",
   "metadata": {},
   "source": [
    "### Based on Recency"
   ]
  },
  {
   "cell_type": "code",
   "execution_count": 21,
   "metadata": {},
   "outputs": [
    {
     "name": "stdout",
     "output_type": "stream",
     "text": [
      "[[ 14.85785288]\n",
      " [164.94888179]\n",
      " [ 56.79497908]\n",
      " [105.48665298]]\n"
     ]
    },
    {
     "data": {
      "text/plain": [
       "4    1006\n",
       "3     717\n",
       "2     487\n",
       "1     313\n",
       "Name: RecencyCluster, dtype: int64"
      ]
     },
     "execution_count": 21,
     "metadata": {},
     "output_type": "execute_result"
    },
    {
     "data": {
      "image/png": "[encoded data removed]",
      "text/plain": [
       "<Figure size 432x288 with 1 Axes>"
      ]
     },
     "metadata": {
      "needs_background": "light"
     },
     "output_type": "display_data"
    }
   ],
   "source": [
    "#Clusters on Recency value\n",
    "\n",
    "recency_data = df_customer_rfm[['Recency']]\n",
    "\n",
    "sum_of_distances = {}\n",
    "for num_clusters in range(1,10):\n",
    "    kmeans = KMeans(init='k-means++', n_clusters=num_clusters, random_state=1)\n",
    "    kmeans.fit(recency_data)\n",
    "    sum_of_distances[num_clusters] = kmeans.inertia_\n",
    "Series(sum_of_distances).sort_index().plot()\n",
    "xlabel('Number of clusters')\n",
    "ylabel('Intertia')\n",
    "\n",
    "# Clustering\n",
    "kmeans = KMeans(init='k-means++', n_clusters=4, random_state=1)\n",
    "kmeans.fit(recency_data)\n",
    "recency_cluster_centers = kmeans.cluster_centers_\n",
    "print (recency_cluster_centers)\n",
    "\n",
    "## Sorting the cluster labels\n",
    "idx = np.argsort(kmeans.cluster_centers_.sum(axis=1))\n",
    "lut = np.zeros_like(idx)\n",
    "lut[idx] = np.arange(3,-1,-1)\n",
    "\n",
    "\n",
    "df_customer_rfm['RecencyCluster'] = lut[kmeans.labels_]\n",
    "df_customer_rfm['RecencyCluster'] = df_customer_rfm['RecencyCluster'].apply(lambda x:x+1)\n",
    "df_customer_rfm['RecencyCluster'].value_counts()"
   ]
  },
  {
   "cell_type": "code",
   "execution_count": 22,
   "metadata": {},
   "outputs": [
    {
     "data": {
      "text/plain": [
       "RecencyCluster\n",
       "1    164.948882\n",
       "2    105.486653\n",
       "3     56.794979\n",
       "4     14.857853\n",
       "Name: Recency, dtype: float64"
      ]
     },
     "execution_count": 22,
     "metadata": {},
     "output_type": "execute_result"
    }
   ],
   "source": [
    "df_customer_rfm.groupby('RecencyCluster')['Recency'].mean()"
   ]
  },
  {
   "cell_type": "code",
   "execution_count": 73,
   "metadata": {},
   "outputs": [
    {
     "data": {
      "text/plain": [
       "Text(0, 0.5, 'Recency')"
      ]
     },
     "execution_count": 73,
     "metadata": {},
     "output_type": "execute_result"
    },
    {
     "data": {
      "image/png": "[encoded data removed]",
      "text/plain": [
       "<Figure size 432x288 with 1 Axes>"
      ]
     },
     "metadata": {
      "needs_background": "light"
     },
     "output_type": "display_data"
    }
   ],
   "source": [
    "plt.scatter(df_customer_rfm['RecencyCluster'],df_customer_rfm['Recency'])\n",
    "plt.xlabel(\"Recency Cluster\")\n",
    "plt.ylabel(\"Recency\")"
   ]
  },
  {
   "cell_type": "markdown",
   "metadata": {},
   "source": [
    "### Based on Frequency"
   ]
  },
  {
   "cell_type": "code",
   "execution_count": 23,
   "metadata": {},
   "outputs": [
    {
     "name": "stdout",
     "output_type": "stream",
     "text": [
      "[[1.        ]\n",
      " [4.68181818]\n",
      " [8.30519481]\n",
      " [2.35      ]]\n",
      "1    1091\n",
      "2     860\n",
      "3     418\n",
      "4     154\n",
      "Name: FrequencyCluster, dtype: int64\n"
     ]
    },
    {
     "data": {
      "image/png": "[encoded data removed]",
      "text/plain": [
       "<Figure size 432x288 with 1 Axes>"
      ]
     },
     "metadata": {
      "needs_background": "light"
     },
     "output_type": "display_data"
    }
   ],
   "source": [
    "#Clusters on Frequency value\n",
    "\n",
    "frequency_data = df_customer_rfm[['Frequency']]\n",
    "\n",
    "sum_of_distances = {}\n",
    "for num_clusters in range(1,10):\n",
    "    kmeans = KMeans(init='k-means++', n_clusters=num_clusters, random_state=1)\n",
    "    kmeans.fit(frequency_data)\n",
    "    sum_of_distances[num_clusters] = kmeans.inertia_\n",
    "Series(sum_of_distances).sort_index().plot()\n",
    "xlabel('Number of clusters')\n",
    "ylabel('Intertia')\n",
    "\n",
    "# Clustering\n",
    "kmeans = KMeans(init='k-means++', n_clusters=4, random_state=1)\n",
    "kmeans.fit(frequency_data)\n",
    "frequency_cluster_centers = kmeans.cluster_centers_\n",
    "print (frequency_cluster_centers)\n",
    "\n",
    "## Sorting the cluster labels\n",
    "idx = np.argsort(kmeans.cluster_centers_.sum(axis=1))\n",
    "lut = np.zeros_like(idx)\n",
    "lut[idx] = np.arange(4)\n",
    "\n",
    "df_customer_rfm['FrequencyCluster'] = lut[kmeans.labels_]\n",
    "df_customer_rfm['FrequencyCluster'] = df_customer_rfm['FrequencyCluster'].apply(lambda x:x+1)\n",
    "print (df_customer_rfm['FrequencyCluster'].value_counts())\n"
   ]
  },
  {
   "cell_type": "code",
   "execution_count": 24,
   "metadata": {},
   "outputs": [
    {
     "data": {
      "text/plain": [
       "FrequencyCluster\n",
       "1    1.000000\n",
       "2    2.350000\n",
       "3    4.681818\n",
       "4    8.305195\n",
       "Name: Frequency, dtype: float64"
      ]
     },
     "execution_count": 24,
     "metadata": {},
     "output_type": "execute_result"
    }
   ],
   "source": [
    "df_customer_rfm.groupby('FrequencyCluster')['Frequency'].mean()"
   ]
  },
  {
   "cell_type": "code",
   "execution_count": 75,
   "metadata": {},
   "outputs": [
    {
     "data": {
      "text/plain": [
       "Text(0, 0.5, 'Frequency')"
      ]
     },
     "execution_count": 75,
     "metadata": {},
     "output_type": "execute_result"
    },
    {
     "data": {
      "image/png": "[encoded data removed]",
      "text/plain": [
       "<Figure size 432x288 with 1 Axes>"
      ]
     },
     "metadata": {
      "needs_background": "light"
     },
     "output_type": "display_data"
    }
   ],
   "source": [
    "plt.scatter(df_customer_rfm['FrequencyCluster'],df_customer_rfm['Frequency'])\n",
    "plt.xlabel(\"Frequency Cluster\")\n",
    "plt.ylabel(\"Frequency\")"
   ]
  },
  {
   "cell_type": "markdown",
   "metadata": {},
   "source": [
    "### Based on Monetory Value"
   ]
  },
  {
   "cell_type": "code",
   "execution_count": 25,
   "metadata": {},
   "outputs": [
    {
     "name": "stdout",
     "output_type": "stream",
     "text": [
      "[[ 264.87337811]\n",
      " [3245.29562921]\n",
      " [ 818.88924127]\n",
      " [1659.55286713]]\n",
      "1    1489\n",
      "2     659\n",
      "3     286\n",
      "4      89\n",
      "Name: MonetoryCluster, dtype: int64\n"
     ]
    },
    {
     "data": {
      "image/png": "[encoded data removed]",
      "text/plain": [
       "<Figure size 432x288 with 1 Axes>"
      ]
     },
     "metadata": {
      "needs_background": "light"
     },
     "output_type": "display_data"
    }
   ],
   "source": [
    "\n",
    "#Clusters on Monetory value\n",
    "\n",
    "monetory_data = df_customer_rfm[['Monetory']]\n",
    "\n",
    "sum_of_distances = {}\n",
    "for num_clusters in range(1,10):\n",
    "    kmeans = KMeans(init='k-means++', n_clusters=num_clusters, random_state=1)\n",
    "    kmeans.fit(monetory_data)\n",
    "    sum_of_distances[num_clusters] = kmeans.inertia_\n",
    "Series(sum_of_distances).sort_index().plot()\n",
    "xlabel('Number of clusters')\n",
    "ylabel('Intertia')\n",
    "\n",
    "# Clustering\n",
    "kmeans = KMeans(init='k-means++', n_clusters=4, random_state=1)\n",
    "kmeans.fit(monetory_data)\n",
    "monetory_cluster_centers = kmeans.cluster_centers_\n",
    "print (monetory_cluster_centers)\n",
    "\n",
    "## Sorting the cluster labels\n",
    "idx = np.argsort(kmeans.cluster_centers_.sum(axis=1))\n",
    "lut = np.zeros_like(idx)\n",
    "lut[idx] = np.arange(4)\n",
    "\n",
    "\n",
    "df_customer_rfm['MonetoryCluster'] = lut[kmeans.labels_]\n",
    "df_customer_rfm['MonetoryCluster'] = df_customer_rfm['MonetoryCluster'].apply(lambda x:x+1)\n",
    "print (df_customer_rfm['MonetoryCluster'].value_counts())\n"
   ]
  },
  {
   "cell_type": "code",
   "execution_count": 26,
   "metadata": {},
   "outputs": [
    {
     "data": {
      "text/plain": [
       "MonetoryCluster\n",
       "1     264.873378\n",
       "2     818.889241\n",
       "3    1659.552867\n",
       "4    3245.295629\n",
       "Name: Monetory, dtype: float64"
      ]
     },
     "execution_count": 26,
     "metadata": {},
     "output_type": "execute_result"
    }
   ],
   "source": [
    "df_customer_rfm.groupby('MonetoryCluster')['Monetory'].mean()"
   ]
  },
  {
   "cell_type": "code",
   "execution_count": 76,
   "metadata": {},
   "outputs": [
    {
     "data": {
      "text/plain": [
       "Text(0, 0.5, 'Monetary')"
      ]
     },
     "execution_count": 76,
     "metadata": {},
     "output_type": "execute_result"
    },
    {
     "data": {
      "image/png": "[encoded data removed]",
      "text/plain": [
       "<Figure size 432x288 with 1 Axes>"
      ]
     },
     "metadata": {
      "needs_background": "light"
     },
     "output_type": "display_data"
    }
   ],
   "source": [
    "plt.scatter(df_customer_rfm['MonetoryCluster'],df_customer_rfm['Monetory'])\n",
    "plt.xlabel(\"Monetary Cluster\")\n",
    "plt.ylabel(\"Monetary\")"
   ]
  },
  {
   "cell_type": "markdown",
   "metadata": {},
   "source": [
    "#### Creating an RFM Segment"
   ]
  },
  {
   "cell_type": "code",
   "execution_count": 27,
   "metadata": {},
   "outputs": [
    {
     "name": "stdout",
     "output_type": "stream",
     "text": [
      "   CustomerID  Monetory  Frequency  Recency  RecencyCluster  FrequencyCluster  \\\n",
      "1     12347.0   1823.43          3       53               3                 2   \n",
      "2     12348.0   1487.24          3       55               3                 2   \n",
      "3     12350.0    334.40          1      117               2                 1   \n",
      "4     12352.0    601.18          8       69               3                 4   \n",
      "5     12353.0     89.00          1       11               4                 1   \n",
      "\n",
      "   MonetoryCluster  RFMCombined  \n",
      "1                3          323  \n",
      "2                3          323  \n",
      "3                1          211  \n",
      "4                2          342  \n",
      "5                1          411  \n",
      "(2523, 8)\n"
     ]
    }
   ],
   "source": [
    "df_customer_rfm['RFMCombined'] = (df_customer_rfm['RecencyCluster']*100)+((df_customer_rfm['FrequencyCluster']*10))+df_customer_rfm['MonetoryCluster']\n",
    "print (df_customer_rfm.head(5))\n",
    "print (df_customer_rfm.shape)"
   ]
  },
  {
   "cell_type": "code",
   "execution_count": 28,
   "metadata": {},
   "outputs": [
    {
     "data": {
      "text/plain": [
       "<matplotlib.collections.PathCollection at 0x255b310c048>"
      ]
     },
     "execution_count": 28,
     "metadata": {},
     "output_type": "execute_result"
    },
    {
     "data": {
      "image/png": "[encoded data removed]",
      "text/plain": [
       "<Figure size 432x288 with 1 Axes>"
      ]
     },
     "metadata": {
      "needs_background": "light"
     },
     "output_type": "display_data"
    }
   ],
   "source": [
    "plt.scatter(df_customer_rfm['FrequencyCluster'],df_customer_rfm['Frequency'])"
   ]
  },
  {
   "cell_type": "code",
   "execution_count": 71,
   "metadata": {},
   "outputs": [],
   "source": [
    "df_customer_rfm.to_csv('First6MonthsRFM.csv')"
   ]
  },
  {
   "cell_type": "markdown",
   "metadata": {},
   "source": [
    "#### Getting Stats at RFM Segment Level"
   ]
  },
  {
   "cell_type": "code",
   "execution_count": 161,
   "metadata": {},
   "outputs": [
    {
     "name": "stdout",
     "output_type": "stream",
     "text": [
      "    RFMCombined  CustomerCount  Avg_Frequency  Avg_Recency  Avg_Monetory  \\\n",
      "45          444             40       8.575000     9.750000   3205.742500   \n",
      "44          443             63       8.285714    10.825397   1764.336667   \n",
      "43          442             27       8.185185    14.407407    920.029259   \n",
      "42          441              1      10.000000     7.000000    341.460000   \n",
      "41          434             25       4.800000    11.680000   3182.089200   \n",
      "\n",
      "    Total_Monetory  \n",
      "45       128229.70  \n",
      "44       111153.21  \n",
      "43        24840.79  \n",
      "42          341.46  \n",
      "41        79552.23  \n",
      "(46, 6)\n"
     ]
    }
   ],
   "source": [
    "### Getting stats by RFM Segment\n",
    "\n",
    "## Number of customers per segment\n",
    "df_rfm_counts = df_customer_rfm.groupby(['RFMCombined'])[['CustomerID']].count()\n",
    "df_rfm_counts = pd.DataFrame(df_rfm_counts.to_records())\n",
    "df_rfm_counts.rename(columns = {'CustomerID':'CustomerCount'}, inplace = True) \n",
    "\n",
    "## Avg. R,F,M per segment\n",
    "df_rfm_avgs = df_customer_rfm.groupby(['RFMCombined'])[['Frequency','Recency','Monetory']].mean()\n",
    "df_rfm_avgs = pd.DataFrame(df_rfm_avgs.to_records())\n",
    "df_rfm_avgs.rename(columns = {'Frequency':'Avg_Frequency','Recency':'Avg_Recency','Monetory':'Avg_Monetory'}, inplace = True) \n",
    "\n",
    "\n",
    "## Total M per segment\n",
    "df_rfm_sums = df_customer_rfm.groupby(['RFMCombined'])[['Monetory']].sum()\n",
    "df_rfm_sums = pd.DataFrame(df_rfm_sums.to_records())\n",
    "df_rfm_sums.rename(columns = {'Monetory':'Total_Monetory'}, inplace = True) \n",
    "\n",
    "## Merging them together\n",
    "df_rfm_att = df_rfm_counts.merge(df_rfm_avgs, on = 'RFMCombined')\n",
    "df_rfm_att = df_rfm_att.merge(df_rfm_sums, on = 'RFMCombined')\n",
    "\n",
    "\n",
    "## Sorting the dataframe based of RFM segment\n",
    "df_rfm_att = df_rfm_att.sort_values(by=['RFMCombined'],ascending = False)\n",
    "\n",
    "print (df_rfm_att.head(5))\n",
    "print (df_rfm_att.shape)"
   ]
  },
  {
   "cell_type": "markdown",
   "metadata": {},
   "source": [
    "### Predicting last 6 months Sales from first 6 months RFM values"
   ]
  },
  {
   "cell_type": "markdown",
   "metadata": {},
   "source": [
    "#### Getting the required columns together"
   ]
  },
  {
   "cell_type": "code",
   "execution_count": 162,
   "metadata": {},
   "outputs": [
    {
     "name": "stdout",
     "output_type": "stream",
     "text": [
      "(1715, 7)\n",
      "   CustomerID  Monetory  Frequency  Recency  Sales_next6m  ActiveMonths  \\\n",
      "0     12347.0   1823.43          3       53       2261.75             3   \n",
      "1     12348.0   1487.24          3       55        310.00             1   \n",
      "2     12352.0    601.18          8       69        944.23             2   \n",
      "3     12359.0   2350.61          3       47       3986.17             2   \n",
      "4     12360.0   1083.58          1        7       1578.48             2   \n",
      "\n",
      "   Average Basket  \n",
      "0           754.0  \n",
      "1           310.0  \n",
      "2           315.0  \n",
      "3          1993.0  \n",
      "4           789.0  \n"
     ]
    }
   ],
   "source": [
    "df_model = df_customer_rfm.merge(df_customer_att_last6m, on = 'CustomerID')\n",
    "#df_model = df_model.drop(columns=['RecencyCluster','FrequencyCluster','MonetoryCluster','RFMCombined','Total Orders'])\n",
    "df_model = df_model.drop(columns=['RecencyCluster','FrequencyCluster','MonetoryCluster','RFMCombined','Total Orders','ActiveDays','Total Items'])\n",
    "df_model.rename(columns = {'Total Sales':'Sales_next6m'}, inplace = True) \n",
    "\n",
    "print (df_model.shape)\n",
    "print (df_model.head(5))"
   ]
  },
  {
   "cell_type": "code",
   "execution_count": 163,
   "metadata": {},
   "outputs": [
    {
     "name": "stdout",
     "output_type": "stream",
     "text": [
      "         CustomerID     Monetory    Frequency      Recency  Sales_next6m  \\\n",
      "count   1715.000000  1715.000000  1715.000000  1715.000000   1715.000000   \n",
      "mean   15305.447813   802.468373     2.921866    54.462391   1074.832823   \n",
      "std     1702.014496   768.689639     2.198378    49.315314   1208.008556   \n",
      "min    12347.000000     9.200000     1.000000    -1.000000      7.420000   \n",
      "25%    13870.500000   286.810000     1.000000    14.000000    332.480000   \n",
      "50%    15265.000000   556.460000     2.000000    40.000000    692.590000   \n",
      "75%    16785.000000  1070.505000     4.000000    82.000000   1381.675000   \n",
      "max    18287.000000  6236.230000    11.000000   180.000000  14093.770000   \n",
      "\n",
      "       ActiveMonths  Average Basket  \n",
      "count   1715.000000     1715.000000  \n",
      "mean       2.421574      308.406997  \n",
      "std        1.403904      225.943392  \n",
      "min        1.000000        4.000000  \n",
      "25%        1.000000      164.500000  \n",
      "50%        2.000000      250.000000  \n",
      "75%        3.000000      376.500000  \n",
      "max        6.000000     1993.000000  \n",
      "xxxxxxxxxxxxxxxxxxxxxxxxxxxxxxxxxxxxxxxxxxxxxxxxxxxxxxxxxxxxxxxxxxxxx\n",
      "(1715, 7)\n",
      "         CustomerID     Monetory    Frequency      Recency  Sales_next6m  \\\n",
      "count   1603.000000  1603.000000  1603.000000  1603.000000   1603.000000   \n",
      "mean   15336.013100   702.266750     2.736744    55.668746    908.025104   \n",
      "std     1686.933775   594.166976     1.957875    49.458548    812.920749   \n",
      "min    12347.000000     9.200000     1.000000    -1.000000      7.420000   \n",
      "25%    13906.000000   271.510000     1.000000    15.000000    315.765000   \n",
      "50%    15304.000000   512.130000     2.000000    42.000000    629.600000   \n",
      "75%    16805.500000   949.615000     4.000000    83.000000   1264.880000   \n",
      "max    18287.000000  3096.350000     9.000000   180.000000   4104.890000   \n",
      "\n",
      "       ActiveMonths  Average Basket  \n",
      "count   1603.000000     1603.000000  \n",
      "mean       2.358079      278.290081  \n",
      "std        1.351575      164.710767  \n",
      "min        1.000000        4.000000  \n",
      "25%        1.000000      160.000000  \n",
      "50%        2.000000      244.000000  \n",
      "75%        3.000000      356.000000  \n",
      "max        6.000000      919.000000  \n",
      "xxxxxxxxxxxxxxxxxxxxxxxxxxxxxxxxxxxxxxxxxxxxxxxxxxxxxxxxxxxxxxxxxxxxx\n",
      "(1603, 7)\n"
     ]
    }
   ],
   "source": [
    "## Removing the outliers\n",
    "\n",
    "\n",
    "\n",
    "print (df_model.describe())\n",
    "print ('xxxxxxxxxxxxxxxxxxxxxxxxxxxxxxxxxxxxxxxxxxxxxxxxxxxxxxxxxxxxxxxxxxxxx')\n",
    "print (df_model.shape)\n",
    "\n",
    "\n",
    "for col in ['Monetory','Frequency','Recency','Sales_next6m','ActiveMonths','Average Basket']:\n",
    "\n",
    "    mn = df_model[col].mean()\n",
    "    sd = df_model[col].std()\n",
    "    ## Checking if the that column has outliers\n",
    "    def isnotoutlier(n):\n",
    "        if n > (mn+ (3* sd)):\n",
    "            return False\n",
    "        elif n < (mn - (3* sd)):\n",
    "            return False\n",
    "        else:\n",
    "            return True\n",
    "\n",
    "    is_notoutlier = df_model[col].map(isnotoutlier)\n",
    "\n",
    "    df_model = df_model[is_notoutlier]\n",
    "\n",
    "\n",
    "print (df_model.describe())\n",
    "print ('xxxxxxxxxxxxxxxxxxxxxxxxxxxxxxxxxxxxxxxxxxxxxxxxxxxxxxxxxxxxxxxxxxxxx')\n",
    "print (df_model.shape)\n",
    "\n"
   ]
  },
  {
   "cell_type": "markdown",
   "metadata": {},
   "source": [
    "#### Getting the X and Y for Modelling"
   ]
  },
  {
   "cell_type": "code",
   "execution_count": 164,
   "metadata": {},
   "outputs": [
    {
     "name": "stdout",
     "output_type": "stream",
     "text": [
      "(1603, 5)\n",
      "(1603,)\n",
      "   Monetory  Frequency  Recency  ActiveMonths  Average Basket\n",
      "0   1823.43          3       53             3           754.0\n",
      "1   1487.24          3       55             1           310.0\n",
      "2    601.18          8       69             2           315.0\n",
      "4   1083.58          1        7             2           789.0\n",
      "5    969.44          3       32             5           406.0\n",
      "0    2261.75\n",
      "1     310.00\n",
      "2     944.23\n",
      "4    1578.48\n",
      "5    3656.10\n",
      "Name: Sales_next6m, dtype: float64\n",
      "   Monetory  Frequency  Recency  ActiveMonths  Average Basket\n",
      "0   1823.43          3       53             3           754.0\n",
      "1   1487.24          3       55             1           310.0\n",
      "2    601.18          8       69             2           315.0\n",
      "4   1083.58          1        7             2           789.0\n",
      "5    969.44          3       32             5           406.0\n"
     ]
    }
   ],
   "source": [
    "X = df_model.drop(['CustomerID','Sales_next6m'],axis=1)\n",
    "y = df_model['Sales_next6m']\n",
    "print (X.shape)\n",
    "print (y.shape)\n",
    "print (X.head(5))\n",
    "print (y.head(5))\n",
    "\n",
    "\n",
    "X_scaled = X\n",
    "#X_scaled = DataFrame(scale(X, with_mean = True, with_std = True), index=X.index, columns=X.columns)\n",
    "\n",
    "#X_scaled.rename(columns = {'Recency':'Frequency','Frequency':'Recency'}, inplace = True) \n",
    "\n",
    "\n",
    "print(X_scaled.head(5))"
   ]
  },
  {
   "cell_type": "code",
   "execution_count": 165,
   "metadata": {},
   "outputs": [
    {
     "name": "stdout",
     "output_type": "stream",
     "text": [
      "          Monetory    Frequency      Recency  ActiveMonths  Average Basket\n",
      "count  1603.000000  1603.000000  1603.000000   1603.000000     1603.000000\n",
      "mean    702.266750     2.736744    55.668746      2.358079      278.290081\n",
      "std     594.166976     1.957875    49.458548      1.351575      164.710767\n",
      "min       9.200000     1.000000    -1.000000      1.000000        4.000000\n",
      "25%     271.510000     1.000000    15.000000      1.000000      160.000000\n",
      "50%     512.130000     2.000000    42.000000      2.000000      244.000000\n",
      "75%     949.615000     4.000000    83.000000      3.000000      356.000000\n",
      "max    3096.350000     9.000000   180.000000      6.000000      919.000000\n",
      "          Monetory    Frequency      Recency  ActiveMonths  Average Basket\n",
      "count  1603.000000  1603.000000  1603.000000   1603.000000     1603.000000\n",
      "mean    702.266750     2.736744    55.668746      2.358079      278.290081\n",
      "std     594.166976     1.957875    49.458548      1.351575      164.710767\n",
      "min       9.200000     1.000000    -1.000000      1.000000        4.000000\n",
      "25%     271.510000     1.000000    15.000000      1.000000      160.000000\n",
      "50%     512.130000     2.000000    42.000000      2.000000      244.000000\n",
      "75%     949.615000     4.000000    83.000000      3.000000      356.000000\n",
      "max    3096.350000     9.000000   180.000000      6.000000      919.000000\n",
      "0    2261.75\n",
      "1     310.00\n",
      "2     944.23\n",
      "4    1578.48\n",
      "5    3656.10\n",
      "Name: Sales_next6m, dtype: float64\n"
     ]
    }
   ],
   "source": [
    "print (X.describe())\n",
    "print (X_scaled.describe())\n",
    "print(y.head(5))"
   ]
  },
  {
   "cell_type": "code",
   "execution_count": 166,
   "metadata": {},
   "outputs": [
    {
     "name": "stdout",
     "output_type": "stream",
     "text": [
      "Coefficients of the model:\n",
      "[ 2.31782455e-01 -1.42428360e+01  4.57008604e-01  4.08479227e+02\n",
      "  2.08528570e+00]\n",
      "The Mean Squared Error (MSE) on the Data is 148645.76027445242\n",
      "The R2 for this model is:  0.77\n"
     ]
    }
   ],
   "source": [
    "from sklearn import linear_model\n",
    "from sklearn.metrics import mean_squared_error\n",
    "from sklearn.metrics import r2_score\n",
    "\n",
    "lm = linear_model.LinearRegression()\n",
    "lm.fit(X_scaled,y)\n",
    "print ('Coefficients of the model:')\n",
    "print (lm.coef_)\n",
    "y_predicted = lm.predict(X_scaled)\n",
    "mae = mean_squared_error(y,y_predicted,sample_weight = None, multioutput = 'uniform_average')\n",
    "print ('The Mean Squared Error (MSE) on the Data is', mae)\n",
    "rsquared = r2_score(y,y_predicted)\n",
    "print ('The R2 for this model is: ',round(rsquared,2))\n",
    "\n",
    "\n",
    "#plt.scatter((X_scaled['Recency']),(y-y_predicted))"
   ]
  },
  {
   "cell_type": "code",
   "execution_count": 168,
   "metadata": {},
   "outputs": [
    {
     "data": {
      "text/plain": [
       "array([2417.12456537,  597.29033253,  746.00676696, ..., -136.74557713,\n",
       "       1595.15922252,  908.23350806])"
      ]
     },
     "execution_count": 168,
     "metadata": {},
     "output_type": "execute_result"
    }
   ],
   "source": [
    "y_predicted"
   ]
  },
  {
   "cell_type": "code",
   "execution_count": 173,
   "metadata": {},
   "outputs": [],
   "source": [
    "df_model['PredictedSales'] = y_predicted\n",
    "df_model.head(5)\n",
    "df_model.to_csv('Predicted.csv')"
   ]
  },
  {
   "cell_type": "code",
   "execution_count": 167,
   "metadata": {},
   "outputs": [
    {
     "name": "stdout",
     "output_type": "stream",
     "text": [
      "                            OLS Regression Results                            \n",
      "==============================================================================\n",
      "Dep. Variable:           Sales_next6m   R-squared:                       0.775\n",
      "Model:                            OLS   Adj. R-squared:                  0.774\n",
      "Method:                 Least Squares   F-statistic:                     1100.\n",
      "Date:                Sun, 10 Nov 2019   Prob (F-statistic):               0.00\n",
      "Time:                        18:59:30   Log-Likelihood:                -11820.\n",
      "No. Observations:                1603   AIC:                         2.365e+04\n",
      "Df Residuals:                    1597   BIC:                         2.368e+04\n",
      "Df Model:                           5                                         \n",
      "Covariance Type:            nonrobust                                         \n",
      "==================================================================================\n",
      "                     coef    std err          t      P>|t|      [0.025      0.975]\n",
      "----------------------------------------------------------------------------------\n",
      "const           -784.7506     33.080    -23.723      0.000    -849.635    -719.866\n",
      "Monetory           0.2318      0.026      9.009      0.000       0.181       0.282\n",
      "Frequency        -14.2428      7.498     -1.899      0.058     -28.950       0.465\n",
      "Recency            0.4570      0.218      2.100      0.036       0.030       0.884\n",
      "ActiveMonths     408.4792      8.062     50.665      0.000     392.665     424.293\n",
      "Average Basket     2.0853      0.066     31.756      0.000       1.956       2.214\n",
      "==============================================================================\n",
      "Omnibus:                      454.819   Durbin-Watson:                   2.027\n",
      "Prob(Omnibus):                  0.000   Jarque-Bera (JB):             1929.827\n",
      "Skew:                           1.300   Prob(JB):                         0.00\n",
      "Kurtosis:                       7.704   Cond. No.                     3.31e+03\n",
      "==============================================================================\n",
      "\n",
      "Warnings:\n",
      "[1] Standard Errors assume that the covariance matrix of the errors is correctly specified.\n",
      "[2] The condition number is large, 3.31e+03. This might indicate that there are\n",
      "strong multicollinearity or other numerical problems.\n"
     ]
    }
   ],
   "source": [
    "import statsmodels.api as sm\n",
    "\n",
    "stat_X = sm.add_constant(X_scaled)\n",
    "stats_lr = sm.OLS(y, stat_X)\n",
    "est2 = stats_lr.fit()\n",
    "print(est2.summary())"
   ]
  },
  {
   "cell_type": "code",
   "execution_count": 152,
   "metadata": {},
   "outputs": [
    {
     "name": "stdout",
     "output_type": "stream",
     "text": [
      "[15:47:12] WARNING: C:/Jenkins/workspace/xgboost-win64_release_0.90/src/objective/regression_obj.cu:152: reg:linear is now deprecated in favor of reg:squarederror.\n",
      "0.6873855357505032\n"
     ]
    }
   ],
   "source": [
    "import xgboost\n",
    "from sklearn.metrics import explained_variance_score\n",
    "from sklearn.model_selection import train_test_split\n",
    "\n",
    "X_train, X_test, y_train, y_test = train_test_split(X, y ,test_size=0.2)\n",
    "\n",
    "\n",
    "#XGBoost Multiclassification Model\n",
    "xgb = xgboost.XGBRegressor(learning_rate=0.1, gamma=0, subsample=0.75,\n",
    "                           colsample_bytree=0.8, max_depth=2)\n",
    "\n",
    "xgb.fit(X_train,y_train)\n",
    "predictions = xgb.predict(X_test)\n",
    "print(r2_score(predictions,y_test))\n"
   ]
  },
  {
   "cell_type": "code",
   "execution_count": 153,
   "metadata": {},
   "outputs": [
    {
     "data": {
      "image/png": "[encoded data removed]",
      "text/plain": [
       "<Figure size 432x288 with 1 Axes>"
      ]
     },
     "metadata": {
      "needs_background": "light"
     },
     "output_type": "display_data"
    }
   ],
   "source": [
    "from xgboost import plot_importance\n",
    "\n",
    "plot_importance(xgb)\n",
    "pyplot.show()"
   ]
  },
  {
   "cell_type": "code",
   "execution_count": null,
   "metadata": {},
   "outputs": [],
   "source": []
  }
 ],
 "metadata": {
  "kernelspec": {
   "display_name": "Python 3",
   "language": "python",
   "name": "python3"
  },
  "language_info": {
   "codemirror_mode": {
    "name": "ipython",
    "version": 3
   },
   "file_extension": ".py",
   "mimetype": "text/x-python",
   "name": "python",
   "nbconvert_exporter": "python",
   "pygments_lexer": "ipython3",
   "version": "3.7.3"
  }
 },
 "nbformat": 4,
 "nbformat_minor": 2
}
