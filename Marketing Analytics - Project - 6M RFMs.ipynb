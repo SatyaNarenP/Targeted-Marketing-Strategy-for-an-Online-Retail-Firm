{
 "cells": [
  {
   "cell_type": "code",
   "execution_count": 1,
   "metadata": {},
   "outputs": [
    {
     "name": "stdout",
     "output_type": "stream",
     "text": [
      "Populating the interactive namespace from numpy and matplotlib\n"
     ]
    }
   ],
   "source": [
    "import pandas as pd\n",
    "from pandas import Series,DataFrame\n",
    "%pylab inline\n",
    "import matplotlib.ticker as ticker\n",
    "import matplotlib.pyplot as plt\n",
    "import seaborn as sns\n",
    "import warnings\n",
    "warnings.filterwarnings(\"ignore\")\n",
    "from sklearn.cluster import KMeans\n",
    "from sklearn.preprocessing import scale\n"
   ]
  },
  {
   "cell_type": "code",
   "execution_count": 2,
   "metadata": {},
   "outputs": [],
   "source": [
    "filename = 'Retail Transactions Data.csv'\n",
    "dateparse = lambda x: pd.datetime.strptime(x, '%m/%d/%Y %H:%M')\n",
    "df_retail = pd.read_csv(filename,parse_dates=['InvoiceDate'], date_parser=dateparse,encoding='cp1252')"
   ]
  },
  {
   "cell_type": "markdown",
   "metadata": {},
   "source": [
    "####                                            Removing rows with 'CustomerID' blank"
   ]
  },
  {
   "cell_type": "code",
   "execution_count": 3,
   "metadata": {},
   "outputs": [
    {
     "name": "stdout",
     "output_type": "stream",
     "text": [
      "(541909, 8)\n",
      "(406829, 8)\n"
     ]
    }
   ],
   "source": [
    "## Removing rows with CustomerID blank\n",
    "print (df_retail.shape)\n",
    "\n",
    "df_retail = df_retail.drop(df_retail[df_retail['CustomerID'].isnull()].index)\n",
    "\n",
    "print (df_retail.shape)"
   ]
  },
  {
   "cell_type": "markdown",
   "metadata": {},
   "source": [
    "#### Adding a column 'Total Price' for the transactions"
   ]
  },
  {
   "cell_type": "code",
   "execution_count": 4,
   "metadata": {},
   "outputs": [],
   "source": [
    "## adding a column total price of the transaction\n",
    "df_retail['Total Price'] = df_retail['UnitPrice']* df_retail['Quantity']"
   ]
  },
  {
   "cell_type": "markdown",
   "metadata": {},
   "source": [
    "#### Removing entries from December 2011"
   ]
  },
  {
   "cell_type": "code",
   "execution_count": 5,
   "metadata": {},
   "outputs": [
    {
     "name": "stdout",
     "output_type": "stream",
     "text": [
      "(389168, 9)\n"
     ]
    }
   ],
   "source": [
    "## removing entries from december 2011\n",
    "\n",
    "df_retail = df_retail.drop(df_retail[(df_retail['InvoiceDate'].dt.year == 2011) & (df_retail['InvoiceDate'].dt.month == 12)].index)\n",
    "print (df_retail.shape)"
   ]
  },
  {
   "cell_type": "markdown",
   "metadata": {},
   "source": [
    "#### Aggregating the details at Invoice level"
   ]
  },
  {
   "cell_type": "code",
   "execution_count": 6,
   "metadata": {},
   "outputs": [
    {
     "name": "stdout",
     "output_type": "stream",
     "text": [
      "(21300, 2)\n",
      "(21300, 8)\n"
     ]
    },
    {
     "data": {
      "text/html": [
       "<div>\n",
       "<style scoped>\n",
       "    .dataframe tbody tr th:only-of-type {\n",
       "        vertical-align: middle;\n",
       "    }\n",
       "\n",
       "    .dataframe tbody tr th {\n",
       "        vertical-align: top;\n",
       "    }\n",
       "\n",
       "    .dataframe thead th {\n",
       "        text-align: right;\n",
       "    }\n",
       "</style>\n",
       "<table border=\"1\" class=\"dataframe\">\n",
       "  <thead>\n",
       "    <tr style=\"text-align: right;\">\n",
       "      <th></th>\n",
       "      <th>InvoiceNo</th>\n",
       "      <th>CustomerID</th>\n",
       "      <th>Country</th>\n",
       "      <th>InvoiceDate</th>\n",
       "      <th>Total Price</th>\n",
       "      <th>Quantity</th>\n",
       "      <th>Invoice_Month</th>\n",
       "      <th>DayofWeek</th>\n",
       "    </tr>\n",
       "  </thead>\n",
       "  <tbody>\n",
       "    <tr>\n",
       "      <th>0</th>\n",
       "      <td>536365</td>\n",
       "      <td>17850.0</td>\n",
       "      <td>United Kingdom</td>\n",
       "      <td>2010-12-01 08:26:00</td>\n",
       "      <td>139.12</td>\n",
       "      <td>40</td>\n",
       "      <td>December</td>\n",
       "      <td>Wednesday</td>\n",
       "    </tr>\n",
       "    <tr>\n",
       "      <th>1</th>\n",
       "      <td>536366</td>\n",
       "      <td>17850.0</td>\n",
       "      <td>United Kingdom</td>\n",
       "      <td>2010-12-01 08:28:00</td>\n",
       "      <td>22.20</td>\n",
       "      <td>12</td>\n",
       "      <td>December</td>\n",
       "      <td>Wednesday</td>\n",
       "    </tr>\n",
       "    <tr>\n",
       "      <th>2</th>\n",
       "      <td>536367</td>\n",
       "      <td>13047.0</td>\n",
       "      <td>United Kingdom</td>\n",
       "      <td>2010-12-01 08:34:00</td>\n",
       "      <td>278.73</td>\n",
       "      <td>83</td>\n",
       "      <td>December</td>\n",
       "      <td>Wednesday</td>\n",
       "    </tr>\n",
       "    <tr>\n",
       "      <th>3</th>\n",
       "      <td>536368</td>\n",
       "      <td>13047.0</td>\n",
       "      <td>United Kingdom</td>\n",
       "      <td>2010-12-01 08:34:00</td>\n",
       "      <td>70.05</td>\n",
       "      <td>15</td>\n",
       "      <td>December</td>\n",
       "      <td>Wednesday</td>\n",
       "    </tr>\n",
       "    <tr>\n",
       "      <th>4</th>\n",
       "      <td>536369</td>\n",
       "      <td>13047.0</td>\n",
       "      <td>United Kingdom</td>\n",
       "      <td>2010-12-01 08:35:00</td>\n",
       "      <td>17.85</td>\n",
       "      <td>3</td>\n",
       "      <td>December</td>\n",
       "      <td>Wednesday</td>\n",
       "    </tr>\n",
       "  </tbody>\n",
       "</table>\n",
       "</div>"
      ],
      "text/plain": [
       "  InvoiceNo  CustomerID         Country         InvoiceDate  Total Price  \\\n",
       "0    536365     17850.0  United Kingdom 2010-12-01 08:26:00       139.12   \n",
       "1    536366     17850.0  United Kingdom 2010-12-01 08:28:00        22.20   \n",
       "2    536367     13047.0  United Kingdom 2010-12-01 08:34:00       278.73   \n",
       "3    536368     13047.0  United Kingdom 2010-12-01 08:34:00        70.05   \n",
       "4    536369     13047.0  United Kingdom 2010-12-01 08:35:00        17.85   \n",
       "\n",
       "   Quantity Invoice_Month  DayofWeek  \n",
       "0        40      December  Wednesday  \n",
       "1        12      December  Wednesday  \n",
       "2        83      December  Wednesday  \n",
       "3        15      December  Wednesday  \n",
       "4         3      December  Wednesday  "
      ]
     },
     "execution_count": 6,
     "metadata": {},
     "output_type": "execute_result"
    }
   ],
   "source": [
    "## Invoice level details\n",
    "\n",
    "def dow(dt):\n",
    "    return dt.day_name()\n",
    "\n",
    "df_invoice = df_retail.groupby(['InvoiceNo','CustomerID', 'Country','InvoiceDate'])[['Total Price', 'Quantity']].sum()\n",
    "print (df_invoice.shape)\n",
    "df_invoice = pd.DataFrame(df_invoice.to_records())\n",
    "df_invoice['Invoice_Month'] = df_invoice['InvoiceDate'].dt.strftime(\"%B\")\n",
    "df_invoice['DayofWeek'] = df_invoice['InvoiceDate'].map(dow)\n",
    "print (df_invoice.shape)\n",
    "df_invoice.head(5)\n"
   ]
  },
  {
   "cell_type": "markdown",
   "metadata": {},
   "source": [
    "## Exploratory Data Analysis"
   ]
  },
  {
   "cell_type": "markdown",
   "metadata": {},
   "source": [
    "#### Orders by Month"
   ]
  },
  {
   "cell_type": "code",
   "execution_count": 7,
   "metadata": {},
   "outputs": [
    {
     "data": {
      "text/plain": [
       "Text(0.5, 1.0, 'Distribution of Orders by Month')"
      ]
     },
     "execution_count": 7,
     "metadata": {},
     "output_type": "execute_result"
    },
    {
     "data": {
      "image/png": "[encoded data removed]",
      "text/plain": [
       "<Figure size 432x288 with 1 Axes>"
      ]
     },
     "metadata": {
      "needs_background": "light"
     },
     "output_type": "display_data"
    }
   ],
   "source": [
    "## Orders by Month\n",
    "\n",
    "df_monthly = df_invoice.groupby('Invoice_Month')[['InvoiceNo']].count()\n",
    "df_monthly = pd.DataFrame(df_monthly.to_records())\n",
    "month_order = [\"January\", \"February\", \"March\", \"April\", \"May\", \"June\", \"July\",\"August\", \"September\", \"October\", \"November\", \"December\"]\n",
    "df_monthly.set_index(\"Invoice_Month\").loc[month_order]['InvoiceNo'].plot(kind = 'bar')\n",
    "xlabel('Month Name')\n",
    "ylabel('Number of Orders')\n",
    "title('Distribution of Orders by Month')"
   ]
  },
  {
   "cell_type": "markdown",
   "metadata": {},
   "source": [
    "#### Orders by Day of the Week"
   ]
  },
  {
   "cell_type": "code",
   "execution_count": 8,
   "metadata": {},
   "outputs": [
    {
     "data": {
      "text/plain": [
       "Text(0.5, 1.0, 'Distribution of Orders by Day of the Week')"
      ]
     },
     "execution_count": 8,
     "metadata": {},
     "output_type": "execute_result"
    },
    {
     "data": {
      "image/png": "[encoded data removed]",
      "text/plain": [
       "<Figure size 432x288 with 1 Axes>"
      ]
     },
     "metadata": {
      "needs_background": "light"
     },
     "output_type": "display_data"
    }
   ],
   "source": [
    "## Orders by Day of the Week\n",
    "\n",
    "df_dow = df_invoice.groupby('DayofWeek')[['InvoiceNo']].count()\n",
    "df_dow = pd.DataFrame(df_dow.to_records())\n",
    "day_order = [\"Monday\", \"Tuesday\", \"Wednesday\", \"Thursday\", \"Friday\", \"Saturday\", \"Sunday\"]\n",
    "df_dow.set_index(\"DayofWeek\").loc[day_order]['InvoiceNo'].plot(kind = 'bar')\n",
    "xlabel('Day of the Week')\n",
    "ylabel('Number of Orders')\n",
    "title('Distribution of Orders by Day of the Week')"
   ]
  },
  {
   "cell_type": "markdown",
   "metadata": {},
   "source": [
    "#### Orders by Country"
   ]
  },
  {
   "cell_type": "code",
   "execution_count": 9,
   "metadata": {},
   "outputs": [
    {
     "data": {
      "text/plain": [
       "Text(0.5, 1.0, 'Distribution of Orders by Country')"
      ]
     },
     "execution_count": 9,
     "metadata": {},
     "output_type": "execute_result"
    },
    {
     "data": {
      "image/png": "[encoded data removed]",
      "text/plain": [
       "<Figure size 432x288 with 1 Axes>"
      ]
     },
     "metadata": {
      "needs_background": "light"
     },
     "output_type": "display_data"
    }
   ],
   "source": [
    "## Orders by Country\n",
    "\n",
    "df_country = df_invoice.groupby('Country')[['InvoiceNo']].count()\n",
    "df_country = pd.DataFrame(df_country.to_records())\n",
    "df_country.set_index(\"Country\")['InvoiceNo'].plot(kind = 'bar')\n",
    "xlabel('Country')\n",
    "ylabel('Number of Orders')\n",
    "title('Distribution of Orders by Country')"
   ]
  },
  {
   "cell_type": "markdown",
   "metadata": {},
   "source": [
    "### Aggregating data at Customer level for every month"
   ]
  },
  {
   "cell_type": "code",
   "execution_count": 10,
   "metadata": {},
   "outputs": [
    {
     "name": "stdout",
     "output_type": "stream",
     "text": [
      "(12989, 4)\n",
      "(12989, 3)\n",
      "(12989, 3)\n",
      "(12989, 3)\n",
      "   CustomerID Invoice_Month  Total Price  Quantity          FirstOrder  \\\n",
      "0     12346.0       January         0.00         0 2011-01-18 10:01:00   \n",
      "1     12347.0         April       636.25       483 2011-04-07 10:43:00   \n",
      "2     12347.0        August       584.91       277 2011-08-02 08:48:00   \n",
      "3     12347.0      December       711.79       319 2010-12-07 14:57:00   \n",
      "4     12347.0       January       475.39       315 2011-01-26 14:30:00   \n",
      "\n",
      "            LastOrder  Ordercount  \n",
      "0 2011-01-18 10:17:00           2  \n",
      "1 2011-04-07 10:43:00           1  \n",
      "2 2011-08-02 08:48:00           1  \n",
      "3 2010-12-07 14:57:00           1  \n",
      "4 2011-01-26 14:30:00           1  \n",
      "(12989, 7)\n"
     ]
    }
   ],
   "source": [
    "## Getting data at a customer level\n",
    "## customer month firstorder of month last order of month total sales in month\n",
    "\n",
    "## Sales by Month\n",
    "df_customer_sales = df_invoice.groupby(['CustomerID','Invoice_Month'])[['Total Price','Quantity']].sum()\n",
    "df_customer_sales = pd.DataFrame(df_customer_sales.to_records())\n",
    "#print (df_customer_sales.head(5))\n",
    "print (df_customer_sales.shape)\n",
    "\n",
    "## Orders by Month\n",
    "df_customer_orders = df_invoice.groupby(['CustomerID','Invoice_Month'])[['InvoiceNo']].count()\n",
    "df_customer_orders = pd.DataFrame(df_customer_orders.to_records())\n",
    "#print (df_customer_orders.head(5))\n",
    "print (df_customer_orders.shape)\n",
    "\n",
    "## First order in a Month\n",
    "df_customer_monthlyfirst = df_invoice.groupby(['CustomerID','Invoice_Month'])[['InvoiceDate']].min()\n",
    "df_customer_monthlyfirst = pd.DataFrame(df_customer_monthlyfirst.to_records())\n",
    "#print (df_customer_monthlyfirst.head(5))\n",
    "print (df_customer_monthlyfirst.shape)\n",
    "\n",
    "## Last order in a Month\n",
    "df_customer_monthlylast = df_invoice.groupby(['CustomerID','Invoice_Month'])[['InvoiceDate']].max()\n",
    "df_customer_monthlylast = pd.DataFrame(df_customer_monthlylast.to_records())\n",
    "#print (df_customer_monthlylast.head(5))\n",
    "print (df_customer_monthlylast.shape)\n",
    "\n",
    "df_customer = df_customer_sales.merge(df_customer_monthlyfirst, on = ['CustomerID','Invoice_Month'],suffixes = ['_left','_right'])\n",
    "#print (df_customer.head(5))\n",
    "df_customer = df_customer.merge(df_customer_monthlylast, on = ['CustomerID','Invoice_Month'],suffixes = ['_firstorder','_lastorder'])\n",
    "#print (df_customer.head(5))\n",
    "df_customer = df_customer.merge(df_customer_orders, on = ['CustomerID','Invoice_Month'],suffixes = ['_firstorder','_lastorder'])\n",
    "#print (df_customer.head(5))\n",
    "\n",
    "\n",
    "\n",
    "\n",
    "df_customer.rename(columns = {'InvoiceDate_firstorder':'FirstOrder','InvoiceDate_lastorder':'LastOrder','InvoiceNo':'Ordercount'}, inplace = True) \n",
    "print (df_customer.head(5))\n",
    "print (df_customer.shape)"
   ]
  },
  {
   "cell_type": "markdown",
   "metadata": {},
   "source": [
    "### Seperating out Customer Transactions for first six and last six months"
   ]
  },
  {
   "cell_type": "code",
   "execution_count": 11,
   "metadata": {},
   "outputs": [
    {
     "name": "stdout",
     "output_type": "stream",
     "text": [
      "(5527, 7)\n",
      "['January' 'April' 'December' 'February' 'March' 'May']\n",
      "   CustomerID Invoice_Month  Total Price  Quantity          FirstOrder  \\\n",
      "0     12346.0       January         0.00         0 2011-01-18 10:01:00   \n",
      "1     12347.0         April       636.25       483 2011-04-07 10:43:00   \n",
      "3     12347.0      December       711.79       319 2010-12-07 14:57:00   \n",
      "4     12347.0       January       475.39       315 2011-01-26 14:30:00   \n",
      "7     12348.0         April       367.00       269 2011-04-05 10:47:00   \n",
      "\n",
      "            LastOrder  Ordercount  \n",
      "0 2011-01-18 10:17:00           2  \n",
      "1 2011-04-07 10:43:00           1  \n",
      "3 2010-12-07 14:57:00           1  \n",
      "4 2011-01-26 14:30:00           1  \n",
      "7 2011-04-05 10:47:00           1  \n",
      "(7462, 7)\n",
      "['August' 'June' 'October' 'September' 'November' 'July']\n"
     ]
    }
   ],
   "source": [
    "# ## Customer transactions 3 months\n",
    "# df_customer_3m = df_customer[(df_customer['Invoice_Month'] == 'March') | (df_customer['Invoice_Month'] == 'April') | (df_customer['Invoice_Month'] == 'May')]\n",
    "\n",
    "## Customer transactions first 6 months\n",
    "df_customer_6m_first = df_customer[(df_customer['Invoice_Month'] == 'December') | (df_customer['Invoice_Month'] == 'January') | (df_customer['Invoice_Month'] == 'February')| (df_customer['Invoice_Month'] == 'March') | (df_customer['Invoice_Month'] == 'April') | (df_customer['Invoice_Month'] == 'May')]\n",
    "\n",
    "## Customer transactions last 6 months\n",
    "df_customer_6m_last = df_customer[(df_customer['Invoice_Month'] == 'June') | (df_customer['Invoice_Month'] == 'July') | (df_customer['Invoice_Month'] == 'August')| (df_customer['Invoice_Month'] == 'September') | (df_customer['Invoice_Month'] == 'October') | (df_customer['Invoice_Month'] == 'November')]\n",
    "\n",
    "print (df_customer_6m_first.shape)\n",
    "print (df_customer_6m_first['Invoice_Month'].unique())\n",
    "print (df_customer_6m_first.head(5))\n",
    "\n",
    "print (df_customer_6m_last.shape)\n",
    "print (df_customer_6m_last['Invoice_Month'].unique())\n"
   ]
  },
  {
   "cell_type": "markdown",
   "metadata": {},
   "source": [
    "### Getting RFM details  - first 6 months only"
   ]
  },
  {
   "cell_type": "code",
   "execution_count": 29,
   "metadata": {},
   "outputs": [
    {
     "name": "stdout",
     "output_type": "stream",
     "text": [
      "(3499, 4)\n",
      "   CustomerID  Monetory  Frequency  Recency\n",
      "0     12347.0   2261.75          3       29\n",
      "1     12348.0    310.00          1       65\n",
      "2     12349.0   1757.55          1        8\n",
      "3     12352.0    944.23          3       26\n",
      "4     12356.0     58.35          1       12\n"
     ]
    }
   ],
   "source": [
    "from datetime import datetime\n",
    "\n",
    "def recency(dt):\n",
    "    dys = (datetime.strptime('2011-11-30', \"%Y-%m-%d\") - dt).days\n",
    "    return dys\n",
    "\n",
    "\n",
    "## RFM for 6 months\n",
    "\n",
    "## monetory value\n",
    "df_customer_m = df_customer_6m_last.groupby(['CustomerID'])[['Total Price']].sum()\n",
    "df_customer_m = pd.DataFrame(df_customer_m.to_records())\n",
    "df_customer_m.rename(columns = {'Total Price':'Monetory'}, inplace = True) \n",
    "#print (df_customer_m.head(5))\n",
    "\n",
    "\n",
    "## frequency\n",
    "df_customer_f = df_customer_6m_last.groupby(['CustomerID'])[['Ordercount']].sum()\n",
    "df_customer_f = pd.DataFrame(df_customer_f.to_records())\n",
    "df_customer_f.rename(columns = {'Ordercount':'Frequency'}, inplace = True) \n",
    "#print (df_customer_f.head(5))\n",
    "\n",
    "## recency\n",
    "\n",
    "df_customer_r = df_customer_6m_last.groupby(['CustomerID'])[['LastOrder']].max()\n",
    "df_customer_r = pd.DataFrame(df_customer_r.to_records())\n",
    "df_customer_r['Recency'] = df_customer_r['LastOrder'].map(recency)\n",
    "df_customer_r = df_customer_r.drop(columns=['LastOrder'])\n",
    "#print (df_customer_r.head(5))\n",
    "\n",
    "## getting RFM together\n",
    "\n",
    "df_customer_rfm = df_customer_m.merge(df_customer_f,on = ['CustomerID'])\n",
    "df_customer_rfm = df_customer_rfm.merge(df_customer_r,on = ['CustomerID'])\n",
    "print (df_customer_rfm.shape)\n",
    "print (df_customer_rfm.head(5))"
   ]
  },
  {
   "cell_type": "markdown",
   "metadata": {},
   "source": [
    "### Getting all important customer attributes together  - last 6 months"
   ]
  },
  {
   "cell_type": "code",
   "execution_count": 30,
   "metadata": {},
   "outputs": [],
   "source": [
    "def getdays(s):\n",
    "    return (s.days+1)\n",
    "\n",
    "## Getting Aggregated values at customer level\n",
    "\n",
    "## Total Sales, Orders, Items for the first 6 months\n",
    "df_customer_ov = df_customer_6m_last.groupby(['CustomerID'])[['Total Price','Quantity','Ordercount']].sum()\n",
    "df_customer_ov = pd.DataFrame(df_customer_ov.to_records())\n",
    "#print (df_customer_ov.head(5))\n",
    "\n",
    "## First Order of Customer\n",
    "df_customer_first = df_customer_6m_last.groupby(['CustomerID'])[['FirstOrder']].min()\n",
    "df_customer_first = pd.DataFrame(df_customer_first.to_records())\n",
    "#print (df_customer_first.head(5))\n",
    "\n",
    "## Last Order of Customer\n",
    "df_customer_last = df_customer_6m_last.groupby(['CustomerID'])[['LastOrder']].max()\n",
    "df_customer_last = pd.DataFrame(df_customer_last.to_records())\n",
    "#print (df_customer_last.head(5))\n",
    "\n",
    "## Number of active months\n",
    "df_customer_months = df_customer_6m_last.groupby(['CustomerID'])[['Invoice_Month']].count()\n",
    "df_customer_months = pd.DataFrame(df_customer_months.to_records())\n",
    "df_customer_months.rename(columns = {'Invoice_Month':'ActiveMonths'}, inplace = True) \n",
    "#print (df_customer_months.head(5))\n",
    "\n",
    "\n",
    "## Days between first and last order\n",
    "df_customer_daysbetween = df_customer_first.merge(df_customer_last, on = 'CustomerID')\n",
    "df_customer_daysbetween['ActiveDays'] = (df_customer_daysbetween['LastOrder'] - df_customer_daysbetween['FirstOrder']).map(getdays)\n",
    "#print (df_customer_daysbetween.head(5))\n"
   ]
  },
  {
   "cell_type": "code",
   "execution_count": 31,
   "metadata": {},
   "outputs": [
    {
     "name": "stdout",
     "output_type": "stream",
     "text": [
      "   CustomerID  Total Sales  Total Items  Total Orders  ActiveMonths  \\\n",
      "0     12347.0      2261.75         1149             3             3   \n",
      "1     12348.0       310.00          217             1             1   \n",
      "2     12349.0      1757.55          631             1             1   \n",
      "3     12352.0       944.23          282             3             2   \n",
      "4     12356.0        58.35            5             1             1   \n",
      "\n",
      "   ActiveDays  Recency  Average Basket  \n",
      "0         144       29           754.0  \n",
      "1           1       65           310.0  \n",
      "2           1        8          1758.0  \n",
      "3          45       26           315.0  \n",
      "4           1       12            58.0  \n",
      "(3499, 8)\n"
     ]
    }
   ],
   "source": [
    "## Getting all important customer attributes together\n",
    "\n",
    "df_customer_att = df_customer_ov.merge(df_customer_months, on = 'CustomerID')\n",
    "df_customer_att = df_customer_att.merge(df_customer_daysbetween, on ='CustomerID')\n",
    "df_customer_att = df_customer_att.drop(columns=['LastOrder','FirstOrder'])\n",
    "df_customer_att = df_customer_att.merge(df_customer_r,on = 'CustomerID')\n",
    "df_customer_att.rename(columns = {'Quantity':'Total Items','Ordercount': 'Total Orders','Total Price':'Total Sales'}, inplace = True)\n",
    "df_customer_att['Average Basket'] = round(df_customer_att['Total Sales']/ df_customer_att['Total Orders'])\n",
    "print (df_customer_att.head(5))\n",
    "print (df_customer_att.shape)"
   ]
  },
  {
   "cell_type": "markdown",
   "metadata": {},
   "source": [
    "### Getting all important customer attributes together  - last 6 months\n"
   ]
  },
  {
   "cell_type": "code",
   "execution_count": 15,
   "metadata": {},
   "outputs": [],
   "source": [
    "def getdays(s):\n",
    "    return (s.days+1)\n",
    "\n",
    "## Getting Aggregated values at customer level\n",
    "\n",
    "## Total Sales, Orders, Items for the first 6 months\n",
    "df_customer_ov = df_customer_6m_last.groupby(['CustomerID'])[['Total Price','Quantity','Ordercount']].sum()\n",
    "df_customer_ov = pd.DataFrame(df_customer_ov.to_records())\n",
    "#print (df_customer_ov.head(5))\n",
    "\n",
    "## First Order of Customer\n",
    "df_customer_first = df_customer_6m_last.groupby(['CustomerID'])[['FirstOrder']].min()\n",
    "df_customer_first = pd.DataFrame(df_customer_first.to_records())\n",
    "#print (df_customer_first.head(5))\n",
    "\n",
    "## Last Order of Customer\n",
    "df_customer_last = df_customer_6m_last.groupby(['CustomerID'])[['LastOrder']].max()\n",
    "df_customer_last = pd.DataFrame(df_customer_last.to_records())\n",
    "#print (df_customer_last.head(5))\n",
    "\n",
    "## Number of active months\n",
    "df_customer_months = df_customer_6m_last.groupby(['CustomerID'])[['Invoice_Month']].count()\n",
    "df_customer_months = pd.DataFrame(df_customer_months.to_records())\n",
    "df_customer_months.rename(columns = {'Invoice_Month':'ActiveMonths'}, inplace = True) \n",
    "#print (df_customer_months.head(5))\n",
    "\n",
    "\n",
    "## Days between first and last order\n",
    "df_customer_daysbetween = df_customer_first.merge(df_customer_last, on = 'CustomerID')\n",
    "df_customer_daysbetween['ActiveDays'] = (df_customer_daysbetween['LastOrder'] - df_customer_daysbetween['FirstOrder']).map(getdays)\n",
    "#print (df_customer_daysbetween.head(5))\n"
   ]
  },
  {
   "cell_type": "code",
   "execution_count": 16,
   "metadata": {},
   "outputs": [
    {
     "name": "stdout",
     "output_type": "stream",
     "text": [
      "   CustomerID  Total Sales  Total Items  Total Orders  ActiveMonths  \\\n",
      "0     12347.0      2261.75         1149             3             3   \n",
      "1     12348.0       310.00          217             1             1   \n",
      "2     12349.0      1757.55          631             1             1   \n",
      "3     12352.0       944.23          282             3             2   \n",
      "4     12356.0        58.35            5             1             1   \n",
      "\n",
      "   ActiveDays  Average Basket  \n",
      "0         144           754.0  \n",
      "1           1           310.0  \n",
      "2           1          1758.0  \n",
      "3          45           315.0  \n",
      "4           1            58.0  \n",
      "(3499, 7)\n"
     ]
    }
   ],
   "source": [
    "## Getting all important customer attributes together\n",
    "\n",
    "df_customer_att_last6m = df_customer_ov.merge(df_customer_months, on = 'CustomerID')\n",
    "df_customer_att_last6m = df_customer_att_last6m.merge(df_customer_daysbetween, on ='CustomerID')\n",
    "df_customer_att_last6m = df_customer_att_last6m.drop(columns=['LastOrder','FirstOrder'])\n",
    "df_customer_att_last6m.rename(columns = {'Quantity':'Total Items','Ordercount': 'Total Orders','Total Price':'Total Sales'}, inplace = True)\n",
    "df_customer_att_last6m['Average Basket'] = round(df_customer_att_last6m['Total Sales']/ df_customer_att_last6m['Total Orders'])\n",
    "print (df_customer_att_last6m.head(5))\n",
    "print (df_customer_att_last6m.shape)"
   ]
  },
  {
   "cell_type": "markdown",
   "metadata": {},
   "source": [
    "## Cleaning the Data"
   ]
  },
  {
   "cell_type": "markdown",
   "metadata": {},
   "source": [
    "#### Removing customers with negative sales"
   ]
  },
  {
   "cell_type": "code",
   "execution_count": 32,
   "metadata": {},
   "outputs": [
    {
     "name": "stdout",
     "output_type": "stream",
     "text": [
      "(3499, 8)\n",
      "(3499, 4)\n",
      "(3455, 7)\n",
      "(3455, 8)\n",
      "(3455, 4)\n",
      "(3455, 7)\n"
     ]
    }
   ],
   "source": [
    "## Removing customers with negative sales\n",
    "\n",
    "print (df_customer_att.shape)\n",
    "print (df_customer_rfm.shape)\n",
    "print (df_customer_att_last6m.shape)\n",
    "\n",
    "df_customer_att = df_customer_att[df_customer_att['Total Sales'] > 0]\n",
    "df_customer_rfm = df_customer_rfm[df_customer_rfm['Monetory'] > 0 ]\n",
    "df_customer_att_last6m = df_customer_att_last6m[df_customer_att_last6m['Total Sales'] > 0]\n",
    "\n",
    "print (df_customer_att.shape)\n",
    "print (df_customer_rfm.shape)\n",
    "print (df_customer_att_last6m.shape)"
   ]
  },
  {
   "cell_type": "markdown",
   "metadata": {},
   "source": [
    "#### Removing outliers (beyond 3 std from the mean)"
   ]
  },
  {
   "cell_type": "code",
   "execution_count": 33,
   "metadata": {},
   "outputs": [
    {
     "name": "stdout",
     "output_type": "stream",
     "text": [
      "         CustomerID   Total Sales    Total Items  Total Orders  ActiveMonths  \\\n",
      "count   3455.000000  3.455000e+03    3455.000000   3455.000000   3455.000000   \n",
      "mean   15294.629812  1.402708e+03     831.331983      3.532851      2.143849   \n",
      "std     1717.059530  5.803440e+03    3061.322556      5.740177      1.403064   \n",
      "min    12347.000000  4.547474e-13    -287.000000      1.000000      1.000000   \n",
      "25%    13816.500000  2.804000e+02     153.000000      1.000000      1.000000   \n",
      "50%    15299.000000  5.569500e+02     328.000000      2.000000      2.000000   \n",
      "75%    16779.500000  1.240105e+03     780.000000      4.000000      3.000000   \n",
      "max    18287.000000  1.804690e+05  110006.000000    164.000000      6.000000   \n",
      "\n",
      "        ActiveDays      Recency  Average Basket  \n",
      "count  3455.000000  3455.000000     3455.000000  \n",
      "mean     57.746454    46.256440      342.271491  \n",
      "std      61.942190    46.689604      362.798978  \n",
      "min       1.000000    -1.000000        0.000000  \n",
      "25%       1.000000    11.000000      162.000000  \n",
      "50%      32.000000    29.000000      256.000000  \n",
      "75%     115.000000    67.000000      393.500000  \n",
      "max     183.000000   181.000000     6208.000000  \n",
      "xxxxxxxxxxxxxxxxxxxxxxxxxxxxxxxxxxxxxxxxxxxxxxxxxxxxxxxxxxxxxxxxxxxxx\n",
      "         CustomerID      Monetory    Frequency      Recency\n",
      "count   3455.000000  3.455000e+03  3455.000000  3455.000000\n",
      "mean   15294.629812  1.402708e+03     3.532851    46.256440\n",
      "std     1717.059530  5.803440e+03     5.740177    46.689604\n",
      "min    12347.000000  4.547474e-13     1.000000    -1.000000\n",
      "25%    13816.500000  2.804000e+02     1.000000    11.000000\n",
      "50%    15299.000000  5.569500e+02     2.000000    29.000000\n",
      "75%    16779.500000  1.240105e+03     4.000000    67.000000\n",
      "max    18287.000000  1.804690e+05   164.000000   181.000000\n",
      "xxxxxxxxxxxxxxxxxxxxxxxxxxxxxxxxxxxxxxxxxxxxxxxxxxxxxxxxxxxxxxxxxxxxx\n",
      "         CustomerID   Total Sales  Total Items  Total Orders  ActiveMonths  \\\n",
      "count   3263.000000  3.263000e+03  3263.000000   3263.000000   3263.000000   \n",
      "mean   15309.966902  8.374417e+02   509.083052      2.821637      2.019614   \n",
      "std     1707.919792  9.216396e+02   560.626713      2.313172      1.255368   \n",
      "min    12347.000000  4.547474e-13  -287.000000      1.000000      1.000000   \n",
      "25%    13847.000000  2.629400e+02   146.000000      1.000000      1.000000   \n",
      "50%    15322.000000  5.123100e+02   306.000000      2.000000      2.000000   \n",
      "75%    16793.500000  1.067750e+03   655.500000      4.000000      3.000000   \n",
      "max    18287.000000  8.603260e+03  3689.000000     12.000000      6.000000   \n",
      "\n",
      "        ActiveDays      Recency  Average Basket  \n",
      "count  3263.000000  3263.000000     3263.000000  \n",
      "mean     53.920319    47.688937      301.209317  \n",
      "std      59.490766    47.039306      205.907319  \n",
      "min       1.000000    -1.000000        0.000000  \n",
      "25%       1.000000    12.000000      159.000000  \n",
      "50%      26.000000    32.000000      249.000000  \n",
      "75%     107.500000    68.000000      380.000000  \n",
      "max     182.000000   181.000000     1252.000000  \n",
      "xxxxxxxxxxxxxxxxxxxxxxxxxxxxxxxxxxxxxxxxxxxxxxxxxxxxxxxxxxxxxxxxxxxxx\n",
      "         CustomerID      Monetory    Frequency      Recency\n",
      "count   3263.000000  3.263000e+03  3263.000000  3263.000000\n",
      "mean   15309.966902  8.374417e+02     2.821637    47.688937\n",
      "std     1707.919792  9.216396e+02     2.313172    47.039306\n",
      "min    12347.000000  4.547474e-13     1.000000    -1.000000\n",
      "25%    13847.000000  2.629400e+02     1.000000    12.000000\n",
      "50%    15322.000000  5.123100e+02     2.000000    32.000000\n",
      "75%    16793.500000  1.067750e+03     4.000000    68.000000\n",
      "max    18287.000000  8.603260e+03    12.000000   181.000000\n",
      "xxxxxxxxxxxxxxxxxxxxxxxxxxxxxxxxxxxxxxxxxxxxxxxxxxxxxxxxxxxxxxxxxxxxx\n"
     ]
    }
   ],
   "source": [
    "## Removing the outliers\n",
    "\n",
    "\n",
    "\n",
    "print (df_customer_att.describe())\n",
    "print ('xxxxxxxxxxxxxxxxxxxxxxxxxxxxxxxxxxxxxxxxxxxxxxxxxxxxxxxxxxxxxxxxxxxxx')\n",
    "print (df_customer_rfm.describe())\n",
    "print ('xxxxxxxxxxxxxxxxxxxxxxxxxxxxxxxxxxxxxxxxxxxxxxxxxxxxxxxxxxxxxxxxxxxxx')\n",
    "\n",
    "\n",
    "for col in ['Total Sales','Total Items','Total Orders','Average Basket']:\n",
    "\n",
    "    mn = df_customer_att[col].mean()\n",
    "    sd = df_customer_att[col].std()\n",
    "    ## Checking if the that column has outliers\n",
    "    def isnotoutlier(n):\n",
    "        if n > (mn+ (3* sd)):\n",
    "            return False\n",
    "        elif n < (mn - (3* sd)):\n",
    "            return False\n",
    "        else:\n",
    "            return True\n",
    "\n",
    "    is_notoutlier = df_customer_att[col].map(isnotoutlier)\n",
    "\n",
    "    df_customer_att = df_customer_att[is_notoutlier]\n",
    "    df_customer_rfm = df_customer_rfm[is_notoutlier]\n",
    "\n",
    "\n",
    "print (df_customer_att.describe())\n",
    "print ('xxxxxxxxxxxxxxxxxxxxxxxxxxxxxxxxxxxxxxxxxxxxxxxxxxxxxxxxxxxxxxxxxxxxx')\n",
    "print (df_customer_rfm.describe())\n",
    "print ('xxxxxxxxxxxxxxxxxxxxxxxxxxxxxxxxxxxxxxxxxxxxxxxxxxxxxxxxxxxxxxxxxxxxx')"
   ]
  },
  {
   "cell_type": "code",
   "execution_count": 34,
   "metadata": {},
   "outputs": [
    {
     "name": "stdout",
     "output_type": "stream",
     "text": [
      "(3263, 8) (3263, 4)\n",
      "   CustomerID  Total Sales  Total Items  Total Orders  ActiveMonths  \\\n",
      "0     12347.0      2261.75         1149             3             3   \n",
      "1     12348.0       310.00          217             1             1   \n",
      "3     12352.0       944.23          282             3             2   \n",
      "4     12356.0        58.35            5             1             1   \n",
      "6     12358.0       484.86          100             1             1   \n",
      "\n",
      "   ActiveDays  Recency  Average Basket  \n",
      "0         144       29           754.0  \n",
      "1           1       65           310.0  \n",
      "3          45       26           315.0  \n",
      "4           1       12            58.0  \n",
      "6           1      140           485.0  \n"
     ]
    }
   ],
   "source": [
    "print (df_customer_att.shape,df_customer_rfm.shape)\n",
    "print(df_customer_att.head(5))"
   ]
  },
  {
   "cell_type": "markdown",
   "metadata": {},
   "source": [
    "## Clustering Based on R,F,M "
   ]
  },
  {
   "cell_type": "markdown",
   "metadata": {},
   "source": [
    "### Based on Recency"
   ]
  },
  {
   "cell_type": "code",
   "execution_count": 35,
   "metadata": {},
   "outputs": [
    {
     "name": "stdout",
     "output_type": "stream",
     "text": [
      "[[ 96.49881797]\n",
      " [ 12.2       ]\n",
      " [ 50.0261959 ]\n",
      " [153.55722892]]\n"
     ]
    },
    {
     "data": {
      "text/plain": [
       "4    1630\n",
       "3     878\n",
       "2     423\n",
       "1     332\n",
       "Name: RecencyCluster, dtype: int64"
      ]
     },
     "execution_count": 35,
     "metadata": {},
     "output_type": "execute_result"
    },
    {
     "data": {
      "image/png": "[encoded data removed]",
      "text/plain": [
       "<Figure size 432x288 with 1 Axes>"
      ]
     },
     "metadata": {
      "needs_background": "light"
     },
     "output_type": "display_data"
    }
   ],
   "source": [
    "#Clusters on Recency value\n",
    "\n",
    "recency_data = df_customer_rfm[['Recency']]\n",
    "\n",
    "sum_of_distances = {}\n",
    "for num_clusters in range(1,10):\n",
    "    kmeans = KMeans(init='k-means++', n_clusters=num_clusters, random_state=1)\n",
    "    kmeans.fit(recency_data)\n",
    "    sum_of_distances[num_clusters] = kmeans.inertia_\n",
    "Series(sum_of_distances).sort_index().plot()\n",
    "xlabel('Number of clusters')\n",
    "ylabel('Intertia')\n",
    "\n",
    "# Clustering\n",
    "kmeans = KMeans(init='k-means++', n_clusters=4, random_state=1)\n",
    "kmeans.fit(recency_data)\n",
    "recency_cluster_centers = kmeans.cluster_centers_\n",
    "print (recency_cluster_centers)\n",
    "\n",
    "## Sorting the cluster labels\n",
    "idx = np.argsort(kmeans.cluster_centers_.sum(axis=1))\n",
    "lut = np.zeros_like(idx)\n",
    "lut[idx] = np.arange(3,-1,-1)\n",
    "\n",
    "\n",
    "df_customer_rfm['RecencyCluster'] = lut[kmeans.labels_]\n",
    "df_customer_rfm['RecencyCluster'] = df_customer_rfm['RecencyCluster'].apply(lambda x:x+1)\n",
    "df_customer_rfm['RecencyCluster'].value_counts()"
   ]
  },
  {
   "cell_type": "code",
   "execution_count": 36,
   "metadata": {},
   "outputs": [
    {
     "data": {
      "text/plain": [
       "RecencyCluster\n",
       "1    153.557229\n",
       "2     96.498818\n",
       "3     50.026196\n",
       "4     12.200000\n",
       "Name: Recency, dtype: float64"
      ]
     },
     "execution_count": 36,
     "metadata": {},
     "output_type": "execute_result"
    }
   ],
   "source": [
    "df_customer_rfm.groupby('RecencyCluster')['Recency'].mean()"
   ]
  },
  {
   "cell_type": "code",
   "execution_count": 37,
   "metadata": {},
   "outputs": [
    {
     "data": {
      "text/plain": [
       "<matplotlib.collections.PathCollection at 0x1db82dde3c8>"
      ]
     },
     "execution_count": 37,
     "metadata": {},
     "output_type": "execute_result"
    },
    {
     "data": {
      "image/png": "[encoded data removed]",
      "text/plain": [
       "<Figure size 432x288 with 1 Axes>"
      ]
     },
     "metadata": {
      "needs_background": "light"
     },
     "output_type": "display_data"
    }
   ],
   "source": [
    "plt.scatter(df_customer_rfm['RecencyCluster'],df_customer_rfm['Recency'])"
   ]
  },
  {
   "cell_type": "markdown",
   "metadata": {},
   "source": [
    "### Based on Frequency"
   ]
  },
  {
   "cell_type": "code",
   "execution_count": 38,
   "metadata": {},
   "outputs": [
    {
     "name": "stdout",
     "output_type": "stream",
     "text": [
      "[[1.35530381]\n",
      " [9.52879581]\n",
      " [5.73177083]\n",
      " [3.42359249]]\n",
      "1    1942\n",
      "2     746\n",
      "3     384\n",
      "4     191\n",
      "Name: FrequencyCluster, dtype: int64\n"
     ]
    },
    {
     "data": {
      "image/png": "[encoded data removed]",
      "text/plain": [
       "<Figure size 432x288 with 1 Axes>"
      ]
     },
     "metadata": {
      "needs_background": "light"
     },
     "output_type": "display_data"
    }
   ],
   "source": [
    "#Clusters on Frequency value\n",
    "\n",
    "frequency_data = df_customer_rfm[['Frequency']]\n",
    "\n",
    "sum_of_distances = {}\n",
    "for num_clusters in range(1,10):\n",
    "    kmeans = KMeans(init='k-means++', n_clusters=num_clusters, random_state=1)\n",
    "    kmeans.fit(frequency_data)\n",
    "    sum_of_distances[num_clusters] = kmeans.inertia_\n",
    "Series(sum_of_distances).sort_index().plot()\n",
    "xlabel('Number of clusters')\n",
    "ylabel('Intertia')\n",
    "\n",
    "# Clustering\n",
    "kmeans = KMeans(init='k-means++', n_clusters=4, random_state=1)\n",
    "kmeans.fit(frequency_data)\n",
    "frequency_cluster_centers = kmeans.cluster_centers_\n",
    "print (frequency_cluster_centers)\n",
    "\n",
    "## Sorting the cluster labels\n",
    "idx = np.argsort(kmeans.cluster_centers_.sum(axis=1))\n",
    "lut = np.zeros_like(idx)\n",
    "lut[idx] = np.arange(4)\n",
    "\n",
    "df_customer_rfm['FrequencyCluster'] = lut[kmeans.labels_]\n",
    "df_customer_rfm['FrequencyCluster'] = df_customer_rfm['FrequencyCluster'].apply(lambda x:x+1)\n",
    "print (df_customer_rfm['FrequencyCluster'].value_counts())\n"
   ]
  },
  {
   "cell_type": "code",
   "execution_count": 39,
   "metadata": {},
   "outputs": [
    {
     "data": {
      "text/plain": [
       "FrequencyCluster\n",
       "1    1.355304\n",
       "2    3.423592\n",
       "3    5.731771\n",
       "4    9.528796\n",
       "Name: Frequency, dtype: float64"
      ]
     },
     "execution_count": 39,
     "metadata": {},
     "output_type": "execute_result"
    }
   ],
   "source": [
    "df_customer_rfm.groupby('FrequencyCluster')['Frequency'].mean()"
   ]
  },
  {
   "cell_type": "markdown",
   "metadata": {},
   "source": [
    "### Based on Monetory Value"
   ]
  },
  {
   "cell_type": "code",
   "execution_count": 40,
   "metadata": {},
   "outputs": [
    {
     "name": "stdout",
     "output_type": "stream",
     "text": [
      "[[ 354.98062875]\n",
      " [2566.76126354]\n",
      " [1222.01487342]\n",
      " [4965.81866667]]\n",
      "1    2134\n",
      "2     791\n",
      "3     278\n",
      "4      60\n",
      "Name: MonetoryCluster, dtype: int64\n"
     ]
    },
    {
     "data": {
      "image/png": "[encoded data removed]",
      "text/plain": [
       "<Figure size 432x288 with 1 Axes>"
      ]
     },
     "metadata": {
      "needs_background": "light"
     },
     "output_type": "display_data"
    }
   ],
   "source": [
    "\n",
    "#Clusters on Monetory value\n",
    "\n",
    "monetory_data = df_customer_rfm[['Monetory']]\n",
    "\n",
    "sum_of_distances = {}\n",
    "for num_clusters in range(1,10):\n",
    "    kmeans = KMeans(init='k-means++', n_clusters=num_clusters, random_state=1)\n",
    "    kmeans.fit(monetory_data)\n",
    "    sum_of_distances[num_clusters] = kmeans.inertia_\n",
    "Series(sum_of_distances).sort_index().plot()\n",
    "xlabel('Number of clusters')\n",
    "ylabel('Intertia')\n",
    "\n",
    "# Clustering\n",
    "kmeans = KMeans(init='k-means++', n_clusters=4, random_state=1)\n",
    "kmeans.fit(monetory_data)\n",
    "monetory_cluster_centers = kmeans.cluster_centers_\n",
    "print (monetory_cluster_centers)\n",
    "\n",
    "## Sorting the cluster labels\n",
    "idx = np.argsort(kmeans.cluster_centers_.sum(axis=1))\n",
    "lut = np.zeros_like(idx)\n",
    "lut[idx] = np.arange(4)\n",
    "\n",
    "\n",
    "df_customer_rfm['MonetoryCluster'] = lut[kmeans.labels_]\n",
    "df_customer_rfm['MonetoryCluster'] = df_customer_rfm['MonetoryCluster'].apply(lambda x:x+1)\n",
    "print (df_customer_rfm['MonetoryCluster'].value_counts())\n"
   ]
  },
  {
   "cell_type": "code",
   "execution_count": 41,
   "metadata": {},
   "outputs": [
    {
     "data": {
      "text/plain": [
       "MonetoryCluster\n",
       "1     354.573216\n",
       "2    1220.069393\n",
       "3    2564.349317\n",
       "4    4965.818667\n",
       "Name: Monetory, dtype: float64"
      ]
     },
     "execution_count": 41,
     "metadata": {},
     "output_type": "execute_result"
    }
   ],
   "source": [
    "df_customer_rfm.groupby('MonetoryCluster')['Monetory'].mean()"
   ]
  },
  {
   "cell_type": "markdown",
   "metadata": {},
   "source": [
    "#### Creating an RFM Segment"
   ]
  },
  {
   "cell_type": "code",
   "execution_count": 42,
   "metadata": {},
   "outputs": [
    {
     "name": "stdout",
     "output_type": "stream",
     "text": [
      "   CustomerID  Monetory  Frequency  Recency  RecencyCluster  FrequencyCluster  \\\n",
      "0     12347.0   2261.75          3       29               4                 2   \n",
      "1     12348.0    310.00          1       65               3                 1   \n",
      "3     12352.0    944.23          3       26               4                 2   \n",
      "4     12356.0     58.35          1       12               4                 1   \n",
      "6     12358.0    484.86          1      140               1                 1   \n",
      "\n",
      "   MonetoryCluster  RFMCombined  \n",
      "0                3          423  \n",
      "1                1          311  \n",
      "3                2          422  \n",
      "4                1          411  \n",
      "6                1          111  \n",
      "(3263, 8)\n"
     ]
    }
   ],
   "source": [
    "df_customer_rfm['RFMCombined'] = (df_customer_rfm['RecencyCluster']*100)+((df_customer_rfm['FrequencyCluster']*10))+df_customer_rfm['MonetoryCluster']\n",
    "print (df_customer_rfm.head(5))\n",
    "print (df_customer_rfm.shape)"
   ]
  },
  {
   "cell_type": "code",
   "execution_count": 43,
   "metadata": {},
   "outputs": [
    {
     "data": {
      "text/plain": [
       "<matplotlib.collections.PathCollection at 0x1db8309cef0>"
      ]
     },
     "execution_count": 43,
     "metadata": {},
     "output_type": "execute_result"
    },
    {
     "data": {
      "image/png": "[encoded data removed]",
      "text/plain": [
       "<Figure size 432x288 with 1 Axes>"
      ]
     },
     "metadata": {
      "needs_background": "light"
     },
     "output_type": "display_data"
    }
   ],
   "source": [
    "plt.scatter(df_customer_rfm['FrequencyCluster'],df_customer_rfm['Frequency'])"
   ]
  },
  {
   "cell_type": "code",
   "execution_count": 52,
   "metadata": {},
   "outputs": [],
   "source": [
    "df_customer_rfm.to_csv('Last6MonthsRFM.csv')"
   ]
  },
  {
   "cell_type": "markdown",
   "metadata": {},
   "source": [
    "#### Getting Stats at RFM Segment Level"
   ]
  },
  {
   "cell_type": "code",
   "execution_count": 44,
   "metadata": {},
   "outputs": [
    {
     "name": "stdout",
     "output_type": "stream",
     "text": [
      "    RFMCombined  CustomerCount  Avg_Frequency  Avg_Recency  Avg_Monetory  \\\n",
      "46          444             36       9.777778     8.861111   5093.654444   \n",
      "45          443             87       9.563218     8.655172   2686.731609   \n",
      "44          442             51       9.274510    10.392157   1500.013137   \n",
      "43          441              2       9.500000    13.000000    652.000000   \n",
      "42          434             12       5.916667     9.916667   4960.486667   \n",
      "\n",
      "    Total_Monetory  \n",
      "46       183371.56  \n",
      "45       233745.65  \n",
      "44        76500.67  \n",
      "43         1304.00  \n",
      "42        59525.84  \n",
      "(47, 6)\n"
     ]
    }
   ],
   "source": [
    "### Getting stats by RFM Segment\n",
    "\n",
    "## Number of customers per segment\n",
    "df_rfm_counts = df_customer_rfm.groupby(['RFMCombined'])[['CustomerID']].count()\n",
    "df_rfm_counts = pd.DataFrame(df_rfm_counts.to_records())\n",
    "df_rfm_counts.rename(columns = {'CustomerID':'CustomerCount'}, inplace = True) \n",
    "\n",
    "## Avg. R,F,M per segment\n",
    "df_rfm_avgs = df_customer_rfm.groupby(['RFMCombined'])[['Frequency','Recency','Monetory']].mean()\n",
    "df_rfm_avgs = pd.DataFrame(df_rfm_avgs.to_records())\n",
    "df_rfm_avgs.rename(columns = {'Frequency':'Avg_Frequency','Recency':'Avg_Recency','Monetory':'Avg_Monetory'}, inplace = True) \n",
    "\n",
    "\n",
    "## Total M per segment\n",
    "df_rfm_sums = df_customer_rfm.groupby(['RFMCombined'])[['Monetory']].sum()\n",
    "df_rfm_sums = pd.DataFrame(df_rfm_sums.to_records())\n",
    "df_rfm_sums.rename(columns = {'Monetory':'Total_Monetory'}, inplace = True) \n",
    "\n",
    "## Merging them together\n",
    "df_rfm_att = df_rfm_counts.merge(df_rfm_avgs, on = 'RFMCombined')\n",
    "df_rfm_att = df_rfm_att.merge(df_rfm_sums, on = 'RFMCombined')\n",
    "\n",
    "\n",
    "## Sorting the dataframe based of RFM segment\n",
    "df_rfm_att = df_rfm_att.sort_values(by=['RFMCombined'],ascending = False)\n",
    "\n",
    "print (df_rfm_att.head(5))\n",
    "print (df_rfm_att.shape)"
   ]
  },
  {
   "cell_type": "markdown",
   "metadata": {},
   "source": [
    "### Predicting last 6 months Sales from first 6 months RFM values"
   ]
  },
  {
   "cell_type": "markdown",
   "metadata": {},
   "source": [
    "#### Getting the required columns together"
   ]
  },
  {
   "cell_type": "code",
   "execution_count": 45,
   "metadata": {},
   "outputs": [
    {
     "name": "stdout",
     "output_type": "stream",
     "text": [
      "(3263, 7)\n",
      "   CustomerID  Monetory  Frequency  Recency  Sales_next6m  ActiveMonths  \\\n",
      "0     12347.0   2261.75          3       29       2261.75             3   \n",
      "1     12348.0    310.00          1       65        310.00             1   \n",
      "2     12352.0    944.23          3       26        944.23             2   \n",
      "3     12356.0     58.35          1       12         58.35             1   \n",
      "4     12358.0    484.86          1      140        484.86             1   \n",
      "\n",
      "   Average Basket  \n",
      "0           754.0  \n",
      "1           310.0  \n",
      "2           315.0  \n",
      "3            58.0  \n",
      "4           485.0  \n"
     ]
    }
   ],
   "source": [
    "df_model = df_customer_rfm.merge(df_customer_att_last6m, on = 'CustomerID')\n",
    "#df_model = df_model.drop(columns=['RecencyCluster','FrequencyCluster','MonetoryCluster','RFMCombined','Total Orders'])\n",
    "df_model = df_model.drop(columns=['RecencyCluster','FrequencyCluster','MonetoryCluster','RFMCombined','Total Orders','ActiveDays','Total Items'])\n",
    "df_model.rename(columns = {'Total Sales':'Sales_next6m'}, inplace = True) \n",
    "\n",
    "print (df_model.shape)\n",
    "print (df_model.head(5))"
   ]
  },
  {
   "cell_type": "code",
   "execution_count": 46,
   "metadata": {},
   "outputs": [
    {
     "name": "stdout",
     "output_type": "stream",
     "text": [
      "         CustomerID      Monetory    Frequency      Recency  Sales_next6m  \\\n",
      "count   3263.000000  3.263000e+03  3263.000000  3263.000000  3.263000e+03   \n",
      "mean   15309.966902  8.374417e+02     2.821637    47.688937  8.374417e+02   \n",
      "std     1707.919792  9.216396e+02     2.313172    47.039306  9.216396e+02   \n",
      "min    12347.000000  4.547474e-13     1.000000    -1.000000  4.547474e-13   \n",
      "25%    13847.000000  2.629400e+02     1.000000    12.000000  2.629400e+02   \n",
      "50%    15322.000000  5.123100e+02     2.000000    32.000000  5.123100e+02   \n",
      "75%    16793.500000  1.067750e+03     4.000000    68.000000  1.067750e+03   \n",
      "max    18287.000000  8.603260e+03    12.000000   181.000000  8.603260e+03   \n",
      "\n",
      "       ActiveMonths  Average Basket  \n",
      "count   3263.000000     3263.000000  \n",
      "mean       2.019614      301.209317  \n",
      "std        1.255368      205.907319  \n",
      "min        1.000000        0.000000  \n",
      "25%        1.000000      159.000000  \n",
      "50%        2.000000      249.000000  \n",
      "75%        3.000000      380.000000  \n",
      "max        6.000000     1252.000000  \n",
      "xxxxxxxxxxxxxxxxxxxxxxxxxxxxxxxxxxxxxxxxxxxxxxxxxxxxxxxxxxxxxxxxxxxxx\n",
      "(3263, 7)\n",
      "         CustomerID      Monetory    Frequency      Recency  Sales_next6m  \\\n",
      "count   2980.000000  2.980000e+03  2980.000000  2980.000000  2.980000e+03   \n",
      "mean   15343.197987  6.450140e+02     2.449329    50.003356  6.450140e+02   \n",
      "std     1693.569643  5.514448e+02     1.731891    47.695127  5.514448e+02   \n",
      "min    12347.000000  4.547474e-13     1.000000    -1.000000  4.547474e-13   \n",
      "25%    13888.750000  2.435575e+02     1.000000    13.000000  2.435575e+02   \n",
      "50%    15369.000000  4.550700e+02     2.000000    34.000000  4.550700e+02   \n",
      "75%    16813.750000  8.877125e+02     3.000000    71.000000  8.877125e+02   \n",
      "max    18287.000000  2.720560e+03     9.000000   181.000000  2.720560e+03   \n",
      "\n",
      "       ActiveMonths  Average Basket  \n",
      "count   2980.000000     2980.000000  \n",
      "mean       1.852349      274.108054  \n",
      "std        1.050110      165.098513  \n",
      "min        1.000000        0.000000  \n",
      "25%        1.000000      153.750000  \n",
      "50%        1.000000      237.500000  \n",
      "75%        2.000000      354.500000  \n",
      "max        5.000000      876.000000  \n",
      "xxxxxxxxxxxxxxxxxxxxxxxxxxxxxxxxxxxxxxxxxxxxxxxxxxxxxxxxxxxxxxxxxxxxx\n",
      "(2980, 7)\n"
     ]
    }
   ],
   "source": [
    "## Removing the outliers\n",
    "\n",
    "\n",
    "\n",
    "print (df_model.describe())\n",
    "print ('xxxxxxxxxxxxxxxxxxxxxxxxxxxxxxxxxxxxxxxxxxxxxxxxxxxxxxxxxxxxxxxxxxxxx')\n",
    "print (df_model.shape)\n",
    "\n",
    "\n",
    "for col in ['Monetory','Frequency','Recency','Sales_next6m','ActiveMonths','Average Basket']:\n",
    "\n",
    "    mn = df_model[col].mean()\n",
    "    sd = df_model[col].std()\n",
    "    ## Checking if the that column has outliers\n",
    "    def isnotoutlier(n):\n",
    "        if n > (mn+ (3* sd)):\n",
    "            return False\n",
    "        elif n < (mn - (3* sd)):\n",
    "            return False\n",
    "        else:\n",
    "            return True\n",
    "\n",
    "    is_notoutlier = df_model[col].map(isnotoutlier)\n",
    "\n",
    "    df_model = df_model[is_notoutlier]\n",
    "\n",
    "\n",
    "print (df_model.describe())\n",
    "print ('xxxxxxxxxxxxxxxxxxxxxxxxxxxxxxxxxxxxxxxxxxxxxxxxxxxxxxxxxxxxxxxxxxxxx')\n",
    "print (df_model.shape)\n",
    "\n"
   ]
  },
  {
   "cell_type": "markdown",
   "metadata": {},
   "source": [
    "#### Getting the X and Y for Modelling"
   ]
  },
  {
   "cell_type": "code",
   "execution_count": 47,
   "metadata": {},
   "outputs": [
    {
     "name": "stdout",
     "output_type": "stream",
     "text": [
      "(2980, 5)\n",
      "(2980,)\n",
      "   Monetory  Frequency  Recency  ActiveMonths  Average Basket\n",
      "0   2261.75          3       29             3           754.0\n",
      "1    310.00          1       65             1           310.0\n",
      "2    944.23          3       26             2           315.0\n",
      "3     58.35          1       12             1            58.0\n",
      "4    484.86          1      140             1           485.0\n",
      "0    2261.75\n",
      "1     310.00\n",
      "2     944.23\n",
      "3      58.35\n",
      "4     484.86\n",
      "Name: Sales_next6m, dtype: float64\n",
      "   Monetory  Frequency   Recency  ActiveMonths  Average Basket\n",
      "0  2.932310   0.318013 -0.440441      1.093070        2.907188\n",
      "1 -0.607622  -0.836988  0.314480     -0.811812        0.217434\n",
      "2  0.542695   0.318013 -0.503351      0.140629        0.247724\n",
      "3 -1.064046  -0.836988 -0.796931     -0.811812       -1.309184\n",
      "4 -0.290475  -0.836988  1.887232     -0.811812        1.277585\n"
     ]
    }
   ],
   "source": [
    "X = df_model.drop(['CustomerID','Sales_next6m'],axis=1)\n",
    "y = df_model['Sales_next6m']\n",
    "print (X.shape)\n",
    "print (y.shape)\n",
    "print (X.head(5))\n",
    "print (y.head(5))\n",
    "\n",
    "X_scaled = DataFrame(scale(X, with_mean = True, with_std = True), index=X.index, columns=X.columns)\n",
    "print(X_scaled.head(5))"
   ]
  },
  {
   "cell_type": "code",
   "execution_count": 48,
   "metadata": {},
   "outputs": [
    {
     "name": "stdout",
     "output_type": "stream",
     "text": [
      "           Monetory    Frequency      Recency  ActiveMonths  Average Basket\n",
      "count  2.980000e+03  2980.000000  2980.000000   2980.000000     2980.000000\n",
      "mean   6.450140e+02     2.449329    50.003356      1.852349      274.108054\n",
      "std    5.514448e+02     1.731891    47.695127      1.050110      165.098513\n",
      "min    4.547474e-13     1.000000    -1.000000      1.000000        0.000000\n",
      "25%    2.435575e+02     1.000000    13.000000      1.000000      153.750000\n",
      "50%    4.550700e+02     2.000000    34.000000      1.000000      237.500000\n",
      "75%    8.877125e+02     3.000000    71.000000      2.000000      354.500000\n",
      "max    2.720560e+03     9.000000   181.000000      5.000000      876.000000\n",
      "           Monetory     Frequency       Recency  ActiveMonths  Average Basket\n",
      "count  2.980000e+03  2.980000e+03  2.980000e+03  2.980000e+03    2.980000e+03\n",
      "mean   4.653250e-17 -1.140773e-16  4.563836e-18 -2.778538e-16   -2.052795e-16\n",
      "std    1.000168e+00  1.000168e+00  1.000168e+00  1.000168e+00    1.000168e+00\n",
      "min   -1.169876e+00 -8.369882e-01 -1.069541e+00 -8.118124e-01   -1.660548e+00\n",
      "25%   -7.281307e-01 -8.369882e-01 -7.759612e-01 -8.118124e-01   -7.291298e-01\n",
      "50%   -3.445057e-01 -2.594877e-01 -3.355907e-01 -8.118124e-01   -2.217718e-01\n",
      "75%    4.401877e-01  3.180129e-01  4.403001e-01  1.406289e-01    4.870149e-01\n",
      "max    3.764464e+00  3.783016e+00  2.747002e+00  2.997953e+00    3.646265e+00\n",
      "0    2261.75\n",
      "1     310.00\n",
      "2     944.23\n",
      "3      58.35\n",
      "4     484.86\n",
      "Name: Sales_next6m, dtype: float64\n"
     ]
    }
   ],
   "source": [
    "print (X.describe())\n",
    "print (X_scaled.describe())\n",
    "print(y.head(5))"
   ]
  },
  {
   "cell_type": "code",
   "execution_count": 49,
   "metadata": {},
   "outputs": [
    {
     "name": "stdout",
     "output_type": "stream",
     "text": [
      "Coefficients of the model:\n",
      "[ 5.51352300e+02 -5.09691246e-14  4.59005065e-14  2.76952357e-14\n",
      "  4.46390519e-14]\n",
      "The Mean Squared Error (MSE) on the Data is 1.2045310194494827e-25\n",
      "The R2 for this model is:  1.0\n"
     ]
    }
   ],
   "source": [
    "from sklearn import linear_model\n",
    "from sklearn.metrics import mean_squared_error\n",
    "from sklearn.metrics import r2_score\n",
    "\n",
    "lm = linear_model.LinearRegression()\n",
    "lm.fit(X_scaled,y)\n",
    "print ('Coefficients of the model:')\n",
    "print (lm.coef_)\n",
    "y_predicted = lm.predict(X_scaled)\n",
    "mae = mean_squared_error(y,y_predicted,sample_weight = None, multioutput = 'uniform_average')\n",
    "print ('The Mean Squared Error (MSE) on the Data is', mae)\n",
    "rsquared = r2_score(y,y_predicted)\n",
    "print ('The R2 for this model is: ',round(rsquared,2))\n",
    "\n",
    "\n",
    "#plt.scatter((X_scaled['Recency']),(y-y_predicted))"
   ]
  },
  {
   "cell_type": "code",
   "execution_count": 50,
   "metadata": {},
   "outputs": [
    {
     "name": "stdout",
     "output_type": "stream",
     "text": [
      "                            OLS Regression Results                            \n",
      "==============================================================================\n",
      "Dep. Variable:           Sales_next6m   R-squared:                       1.000\n",
      "Model:                            OLS   Adj. R-squared:                  1.000\n",
      "Method:                 Least Squares   F-statistic:                 1.363e+33\n",
      "Date:                Sun, 10 Nov 2019   Prob (F-statistic):               0.00\n",
      "Time:                        13:32:31   Log-Likelihood:                 81122.\n",
      "No. Observations:                2980   AIC:                        -1.622e+05\n",
      "Df Residuals:                    2974   BIC:                        -1.622e+05\n",
      "Df Model:                           5                                         \n",
      "Covariance Type:            nonrobust                                         \n",
      "==================================================================================\n",
      "                     coef    std err          t      P>|t|      [0.025      0.975]\n",
      "----------------------------------------------------------------------------------\n",
      "const            645.0140   6.68e-15   9.66e+16      0.000     645.014     645.014\n",
      "Monetory         551.3523    1.8e-14   3.07e+16      0.000     551.352     551.352\n",
      "Frequency      -2.238e-13    1.7e-14    -13.149      0.000   -2.57e-13    -1.9e-13\n",
      "Recency         2.638e-13   7.29e-15     36.194      0.000    2.49e-13    2.78e-13\n",
      "ActiveMonths    2.771e-13    1.3e-14     21.385      0.000    2.52e-13    3.03e-13\n",
      "Average Basket  1.217e-13   1.27e-14      9.603      0.000    9.68e-14    1.47e-13\n",
      "==============================================================================\n",
      "Omnibus:                      124.018   Durbin-Watson:                   1.718\n",
      "Prob(Omnibus):                  0.000   Jarque-Bera (JB):              150.087\n",
      "Skew:                          -0.459   Prob(JB):                     2.56e-33\n",
      "Kurtosis:                       3.605   Cond. No.                         6.23\n",
      "==============================================================================\n",
      "\n",
      "Warnings:\n",
      "[1] Standard Errors assume that the covariance matrix of the errors is correctly specified.\n"
     ]
    }
   ],
   "source": [
    "import statsmodels.api as sm\n",
    "\n",
    "stat_X = sm.add_constant(X_scaled)\n",
    "stats_lr = sm.OLS(y, stat_X)\n",
    "est2 = stats_lr.fit()\n",
    "print(est2.summary())"
   ]
  },
  {
   "cell_type": "code",
   "execution_count": 143,
   "metadata": {},
   "outputs": [
    {
     "name": "stdout",
     "output_type": "stream",
     "text": [
      "[18:37:07] WARNING: C:/Jenkins/workspace/xgboost-win64_release_0.90/src/objective/regression_obj.cu:152: reg:linear is now deprecated in favor of reg:squarederror.\n",
      "0.7798617808208785\n"
     ]
    }
   ],
   "source": [
    "import xgboost\n",
    "from sklearn.metrics import explained_variance_score\n",
    "from sklearn.model_selection import train_test_split\n",
    "\n",
    "X_train, X_test, y_train, y_test = train_test_split(X, y ,test_size=0.2)\n",
    "\n",
    "\n",
    "#XGBoost Multiclassification Model\n",
    "xgb = xgboost.XGBRegressor(learning_rate=0.1, gamma=0, subsample=0.75,\n",
    "                           colsample_bytree=0.8, max_depth=2)\n",
    "\n",
    "xgb.fit(X_train,y_train)\n",
    "predictions = xgb.predict(X_test)\n",
    "print(r2_score(predictions,y_test))\n"
   ]
  },
  {
   "cell_type": "code",
   "execution_count": null,
   "metadata": {},
   "outputs": [],
   "source": []
  }
 ],
 "metadata": {
  "kernelspec": {
   "display_name": "Python 3",
   "language": "python",
   "name": "python3"
  },
  "language_info": {
   "codemirror_mode": {
    "name": "ipython",
    "version": 3
   },
   "file_extension": ".py",
   "mimetype": "text/x-python",
   "name": "python",
   "nbconvert_exporter": "python",
   "pygments_lexer": "ipython3",
   "version": "3.7.3"
  }
 },
 "nbformat": 4,
 "nbformat_minor": 2
}
